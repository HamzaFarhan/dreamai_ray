{
 "cells": [
  {
   "attachments": {},
   "cell_type": "markdown",
   "metadata": {},
   "source": [
    "# Mapper"
   ]
  },
  {
   "cell_type": "code",
   "execution_count": null,
   "metadata": {},
   "outputs": [],
   "source": [
    "# | default_exp mapper"
   ]
  },
  {
   "cell_type": "code",
   "execution_count": null,
   "metadata": {},
   "outputs": [],
   "source": [
    "# | export\n",
    "\n",
    "from dreamai_ray.imports import *\n",
    "from dreamai_ray.utils import *\n"
   ]
  },
  {
   "cell_type": "code",
   "execution_count": null,
   "metadata": {},
   "outputs": [],
   "source": [
    "#| hide\n",
    "\n",
    "%load_ext autoreload\n",
    "%autoreload 2\n",
    "%reload_ext autoreload"
   ]
  },
  {
   "cell_type": "code",
   "execution_count": null,
   "metadata": {},
   "outputs": [],
   "source": [
    "# | export\n",
    "\n",
    "\n",
    "class Callback:\n",
    "    def before_batch(self, **kwargs):\n",
    "        pass\n",
    "\n",
    "    def before_batch_rows(self, **kwargs):\n",
    "        pass\n",
    "\n",
    "    def after_batch_rows(self, **kwargs):\n",
    "        pass\n",
    "\n",
    "    def after_batch(self, **kwargs):\n",
    "        pass\n",
    "\n",
    "\n",
    "class msg_bs_cb(Callback):\n",
    "    def before_batch(self, df, **kwargs):\n",
    "        msg.info(f\"DF BATCH SIZE: {len(df)}\", spaced=True)\n",
    "\n",
    "\n",
    "def cbs_before_batch(cbs, **kwargs):\n",
    "    [cb.before_batch(**kwargs) for cb in cbs]\n",
    "\n",
    "\n",
    "def cbs_before_batch_rows(cbs, df, **kwargs):\n",
    "    [cb.before_batch_rows(**kwargs) for _ in range(len(df)) for cb in cbs]\n",
    "\n",
    "\n",
    "def cbs_after_batch_rows(cbs, df, **kwargs):\n",
    "    [cb.after_batch_rows(**kwargs) for _ in range(len(df)) for cb in cbs]\n",
    "\n",
    "\n",
    "def cbs_after_batch(cbs, **kwargs):\n",
    "    [cb.after_batch(**kwargs) for cb in cbs]\n",
    "\n",
    "\n",
    "class Mapper:\n",
    "    \"\"\"\n",
    "    A class to map a function to a dataframe. The function can be a UDF or a function that returns a dataframe.\n",
    "    \"\"\"\n",
    "\n",
    "    def __init__(\n",
    "        self,\n",
    "        udf=noop,\n",
    "        udf_kwargs={},\n",
    "        cbs=[msg_bs_cb()],\n",
    "        **kwargs,\n",
    "    ):\n",
    "        \"\"\"\n",
    "        Parameters\n",
    "        ----------\n",
    "        udf: function\n",
    "            A function that takes a dataframe as input and returns a dataframe as output.\n",
    "        udf_kwargs: dict\n",
    "            A dictionary of keyword arguments to pass to the udf.\n",
    "        cbs: list\n",
    "            A list of callbacks to run before and after the mapping.\n",
    "        \"\"\"\n",
    "        udf = partial(udf, **udf_kwargs)\n",
    "        store_attr(**locals_to_params(locals()))\n",
    "\n",
    "    def map(self, df):\n",
    "        return df.apply(self.udf, axis=1, result_type=\"expand\")\n",
    "\n",
    "    def __call__(self, df):\n",
    "        cbs_before_batch(self.cbs, df=df)\n",
    "        cbs_before_batch_rows(self.cbs, df=df)\n",
    "\n",
    "        df = self.map(df)\n",
    "\n",
    "        cbs_after_batch_rows(self.cbs, df=df)\n",
    "        cbs_after_batch(self.cbs, df=df)\n",
    "\n",
    "        return df"
   ]
  },
  {
   "cell_type": "code",
   "execution_count": null,
   "metadata": {},
   "outputs": [
    {
     "name": "stdout",
     "output_type": "stream",
     "text": [
      "\n",
      "\u001b[38;5;4mℹ DF BATCH SIZE: 2\u001b[0m\n",
      "\n"
     ]
    },
    {
     "data": {
      "text/html": [
       "<div>\n",
       "<style scoped>\n",
       "    .dataframe tbody tr th:only-of-type {\n",
       "        vertical-align: middle;\n",
       "    }\n",
       "\n",
       "    .dataframe tbody tr th {\n",
       "        vertical-align: top;\n",
       "    }\n",
       "\n",
       "    .dataframe thead th {\n",
       "        text-align: right;\n",
       "    }\n",
       "</style>\n",
       "<table border=\"1\" class=\"dataframe\">\n",
       "  <thead>\n",
       "    <tr style=\"text-align: right;\">\n",
       "      <th></th>\n",
       "      <th>text</th>\n",
       "      <th>joined</th>\n",
       "    </tr>\n",
       "  </thead>\n",
       "  <tbody>\n",
       "    <tr>\n",
       "      <th>0</th>\n",
       "      <td>[I worked at Google, I studied at Harvard]</td>\n",
       "      <td>I worked at Google and I studied at Harvard</td>\n",
       "    </tr>\n",
       "    <tr>\n",
       "      <th>1</th>\n",
       "      <td>[I worked at Facebook, I studied at MIT]</td>\n",
       "      <td>I worked at Facebook and I studied at MIT</td>\n",
       "    </tr>\n",
       "  </tbody>\n",
       "</table>\n",
       "</div>"
      ],
      "text/plain": [
       "                                         text  \\\n",
       "0  [I worked at Google, I studied at Harvard]   \n",
       "1    [I worked at Facebook, I studied at MIT]   \n",
       "\n",
       "                                        joined  \n",
       "0  I worked at Google and I studied at Harvard  \n",
       "1    I worked at Facebook and I studied at MIT  "
      ]
     },
     "execution_count": null,
     "metadata": {},
     "output_type": "execute_result"
    }
   ],
   "source": [
    "# | eval: false\n",
    "\n",
    "df = pd.DataFrame(\n",
    "    {\n",
    "        \"text\": [\n",
    "            [\"I worked at Google\", \"I studied at Harvard\"],\n",
    "            [\"I worked at Facebook\", \"I studied at MIT\"],\n",
    "        ]\n",
    "    }\n",
    ")\n",
    "\n",
    "\n",
    "def ander(df):\n",
    "    \"\"\"\n",
    "    A simple example of a user defined function that joins the text in each row with \" and \"\n",
    "    \"\"\"\n",
    "    df[\"joined\"] = \" and \".join(df[\"text\"])\n",
    "    return df\n",
    "\n",
    "\n",
    "m = Mapper(udf=ander)\n",
    "df = m(df)\n",
    "df"
   ]
  },
  {
   "cell_type": "code",
   "execution_count": null,
   "metadata": {},
   "outputs": [
    {
     "name": "stdout",
     "output_type": "stream",
     "text": [
      "\n",
      "\u001b[38;5;4mℹ DF BATCH SIZE: 2\u001b[0m\n",
      "\n"
     ]
    },
    {
     "data": {
      "text/html": [
       "<div>\n",
       "<style scoped>\n",
       "    .dataframe tbody tr th:only-of-type {\n",
       "        vertical-align: middle;\n",
       "    }\n",
       "\n",
       "    .dataframe tbody tr th {\n",
       "        vertical-align: top;\n",
       "    }\n",
       "\n",
       "    .dataframe thead th {\n",
       "        text-align: right;\n",
       "    }\n",
       "</style>\n",
       "<table border=\"1\" class=\"dataframe\">\n",
       "  <thead>\n",
       "    <tr style=\"text-align: right;\">\n",
       "      <th></th>\n",
       "      <th>text</th>\n",
       "      <th>segs</th>\n",
       "      <th>preds</th>\n",
       "      <th>probs</th>\n",
       "    </tr>\n",
       "  </thead>\n",
       "  <tbody>\n",
       "    <tr>\n",
       "      <th>0</th>\n",
       "      <td>[I worked at Google, I studied at Harvard]</td>\n",
       "      <td>{'Work Experience': ['I worked at Google'], 'Education': ['I studied at Harvard'], 'Certifications': [], 'Other': []}</td>\n",
       "      <td>[Work Experience, Education]</td>\n",
       "      <td>[0.98256487, 0.98468]</td>\n",
       "    </tr>\n",
       "    <tr>\n",
       "      <th>1</th>\n",
       "      <td>[I worked at Facebook, I studied at MIT]</td>\n",
       "      <td>{'Work Experience': ['I worked at Facebook'], 'Education': ['I studied at MIT'], 'Certifications': [], 'Other': []}</td>\n",
       "      <td>[Work Experience, Education]</td>\n",
       "      <td>[0.9836285, 0.98444146]</td>\n",
       "    </tr>\n",
       "  </tbody>\n",
       "</table>\n",
       "</div>"
      ],
      "text/plain": [
       "                                         text  \\\n",
       "0  [I worked at Google, I studied at Harvard]   \n",
       "1    [I worked at Facebook, I studied at MIT]   \n",
       "\n",
       "                                                                                                                    segs  \\\n",
       "0  {'Work Experience': ['I worked at Google'], 'Education': ['I studied at Harvard'], 'Certifications': [], 'Other': []}   \n",
       "1    {'Work Experience': ['I worked at Facebook'], 'Education': ['I studied at MIT'], 'Certifications': [], 'Other': []}   \n",
       "\n",
       "                          preds                    probs  \n",
       "0  [Work Experience, Education]    [0.98256487, 0.98468]  \n",
       "1  [Work Experience, Education]  [0.9836285, 0.98444146]  "
      ]
     },
     "execution_count": null,
     "metadata": {},
     "output_type": "execute_result"
    }
   ],
   "source": [
    "# # | eval: false\n",
    "\n",
    "# df = pd.DataFrame(\n",
    "#     {\n",
    "#         \"text\": [\n",
    "#             [\"I worked at Google\", \"I studied at Harvard\"],\n",
    "#             [\"I worked at Facebook\", \"I studied at MIT\"],\n",
    "#         ]\n",
    "#     }\n",
    "# )\n",
    "\n",
    "# m = SegsMapper()\n",
    "# df = m(df)\n",
    "# df\n"
   ]
  },
  {
   "cell_type": "code",
   "execution_count": null,
   "metadata": {},
   "outputs": [],
   "source": [
    "# | hide\n",
    "\n",
    "import nbdev\n",
    "\n",
    "nbdev.nbdev_export()\n"
   ]
  }
 ],
 "metadata": {
  "kernelspec": {
   "display_name": "python3",
   "language": "python",
   "name": "python3"
  }
 },
 "nbformat": 4,
 "nbformat_minor": 2
}
