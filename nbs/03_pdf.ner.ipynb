{
 "cells": [
  {
   "attachments": {},
   "cell_type": "markdown",
   "metadata": {},
   "source": [
    "# PDF NER\n",
    "\n",
    "> Functions for extracting text from PDFs and running NER on them."
   ]
  },
  {
   "cell_type": "code",
   "execution_count": null,
   "metadata": {},
   "outputs": [],
   "source": [
    "# | default_exp pdf.ner"
   ]
  },
  {
   "cell_type": "code",
   "execution_count": null,
   "metadata": {},
   "outputs": [],
   "source": [
    "# | export\n",
    "\n",
    "from dreamai_ray.imports import *"
   ]
  },
  {
   "cell_type": "code",
   "execution_count": null,
   "metadata": {},
   "outputs": [
    {
     "name": "stdout",
     "output_type": "stream",
     "text": [
      "The autoreload extension is already loaded. To reload it, use:\n",
      "  %reload_ext autoreload\n"
     ]
    }
   ],
   "source": [
    "#| hide\n",
    "\n",
    "%load_ext autoreload\n",
    "%autoreload 2\n",
    "%reload_ext autoreload"
   ]
  },
  {
   "cell_type": "code",
   "execution_count": null,
   "metadata": {},
   "outputs": [],
   "source": [
    "# | export\n",
    "\n",
    "\n",
    "def load_ner_model(model_name=\"tner/deberta-v3-large-ontonotes5\", device=\"cpu\"):\n",
    "    tokenizer = AutoTokenizer.from_pretrained(model_name)\n",
    "    model = AutoModelForTokenClassification.from_pretrained(model_name)\n",
    "    return pipeline(\n",
    "        \"ner\",\n",
    "        model=model,\n",
    "        tokenizer=tokenizer,\n",
    "        aggregation_strategy=\"simple\",\n",
    "        device=device,\n",
    "    )\n",
    "\n",
    "\n",
    "def load_job_model(model_name=\"ismail-lucifer011/autotrain-job_all-903929564\", device=\"cpu\"):\n",
    "    tokenizer = AutoTokenizer.from_pretrained(model_name)\n",
    "    model = AutoModelForTokenClassification.from_pretrained(model_name)\n",
    "    return pipeline(\n",
    "        \"ner\",\n",
    "        model=model,\n",
    "        tokenizer=tokenizer,\n",
    "        aggregation_strategy=\"simple\",\n",
    "        device=device,\n",
    "    )\n",
    "\n",
    "\n",
    "def proc_ner(txt, ner, ner_dict={\"institute\": \"\", \"date\": \"\"}, thresh=3):\n",
    "    ner_dict = copy.deepcopy(ner_dict)\n",
    "    org_key = \"institute\" if \"institute\" in ner_dict else \"company\"\n",
    "    mapper = {\n",
    "        \"ORG\": org_key,\n",
    "        \"FAC\": org_key,\n",
    "        \"GPE\": org_key,\n",
    "        \"LOC\": org_key,\n",
    "        \"Job\": \"role\",\n",
    "        \"WORK_OF_ART\": \"degree\",\n",
    "        \"DATE\": \"date\",\n",
    "    }\n",
    "    ner_dict[\"text\"] = txt\n",
    "    for d in ner:\n",
    "        eg = d[\"entity_group\"]\n",
    "        w = \" \" + d[\"word\"].strip()\n",
    "        k = mapper.get(eg, None)\n",
    "        if k is not None and ner_dict.get(k, None) is not None and not w.startswith(\"##\"):\n",
    "            ner_dict[k] = (ner_dict[k] + w).strip()\n",
    "    res = {k: v for k, v in ner_dict.items() if len(v) > thresh}\n",
    "    if res.get(org_key, None) is None:\n",
    "        return {}\n",
    "    return res\n",
    "\n",
    "\n",
    "def job_ner(txt, tner, jner):\n",
    "    return tner(txt) + jner(txt)\n",
    "\n",
    "\n",
    "def edu_ner(txt, tner, ner_dict={\"institute\": \"\", \"date\": \"\"}):\n",
    "    ner = tner(txt)\n",
    "    return proc_ner(txt, ner, ner_dict)\n",
    "\n",
    "\n",
    "def work_ner(txt, tner, jner, ner_dict={\"company\": \"\", \"date\": \"\"}):\n",
    "    ner = job_ner(txt, tner, jner)\n",
    "    return proc_ner(txt, ner, ner_dict)\n",
    "\n",
    "\n",
    "def is_valid_jner(ner, thresh=3):\n",
    "    return ner.get(\"company\", None) is not None\n",
    "\n",
    "\n",
    "def is_valid_tner(ner, thresh=3):\n",
    "    return ner.get(\"institute\", None) is not None"
   ]
  },
  {
   "cell_type": "code",
   "execution_count": null,
   "metadata": {},
   "outputs": [],
   "source": [
    "# | hide\n",
    "\n",
    "import nbdev\n",
    "\n",
    "nbdev.nbdev_export()\n"
   ]
  }
 ],
 "metadata": {
  "kernelspec": {
   "display_name": "python3",
   "language": "python",
   "name": "python3"
  }
 },
 "nbformat": 4,
 "nbformat_minor": 2
}
