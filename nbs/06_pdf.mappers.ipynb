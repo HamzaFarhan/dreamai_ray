{
 "cells": [
  {
   "attachments": {},
   "cell_type": "markdown",
   "metadata": {},
   "source": [
    "# PDF Mappers"
   ]
  },
  {
   "cell_type": "code",
   "execution_count": null,
   "metadata": {},
   "outputs": [],
   "source": [
    "# | default_exp pdf.mappers\n"
   ]
  },
  {
   "cell_type": "code",
   "execution_count": null,
   "metadata": {},
   "outputs": [],
   "source": [
    "# | export\n",
    "\n",
    "from dreamai_ray.imports import *\n",
    "from dreamai_ray.utils import *\n",
    "from dreamai_ray.mapper import *\n",
    "from dreamai_ray.pdf.extract import *\n",
    "from dreamai_ray.pdf.df import *"
   ]
  },
  {
   "cell_type": "code",
   "execution_count": null,
   "metadata": {},
   "outputs": [],
   "source": [
    "#| hide\n",
    "\n",
    "%load_ext autoreload\n",
    "%autoreload 2\n",
    "%reload_ext autoreload"
   ]
  },
  {
   "cell_type": "code",
   "execution_count": null,
   "metadata": {},
   "outputs": [],
   "source": [
    "# | export\n",
    "\n",
    "\n",
    "class SegsMapper(Mapper):\n",
    "    \"\"\"\n",
    "    A custom mapper for PDF segmentation. It uses the `df_segs` function to extract the segments from the PDF.\n",
    "    \"\"\"\n",
    "\n",
    "    def __init__(\n",
    "        self,\n",
    "        segs_model=\"HamzaFarhan/PDFSegs\",\n",
    "        udf=df_segs,\n",
    "        udf_kwargs=dict(\n",
    "            thresh=0.6,\n",
    "            classes=[\"Work Experience\", \"Education\", \"Certifications\", \"Other\"],\n",
    "            other_class=\"Other\",\n",
    "        ),\n",
    "        **kwargs,\n",
    "    ):\n",
    "        \"\"\"\n",
    "        Parameters\n",
    "        ----------\n",
    "        segs_model : str, optional\n",
    "            The name of the model to use for segmentation, by default \"HamzaFarhan/PDFSegs\"\n",
    "        udf : function, optional\n",
    "            The function to use for extracting the segments, by default df_segs\n",
    "        udf_kwargs : dict, optional\n",
    "            The keyword arguments to pass to the `udf` function.\n",
    "        \"\"\"\n",
    "        segs_model = load_segs_model(segs_model, device=default_device())\n",
    "        udf_kwargs[\"segs_model\"] = segs_model\n",
    "        super().__init__(**locals_to_params(locals()))"
   ]
  },
  {
   "cell_type": "code",
   "execution_count": null,
   "metadata": {},
   "outputs": [
    {
     "name": "stdout",
     "output_type": "stream",
     "text": [
      "\n",
      "\u001b[38;5;4mℹ DF BATCH SIZE: 2\u001b[0m\n",
      "\n"
     ]
    },
    {
     "data": {
      "text/html": [
       "<div>\n",
       "<style scoped>\n",
       "    .dataframe tbody tr th:only-of-type {\n",
       "        vertical-align: middle;\n",
       "    }\n",
       "\n",
       "    .dataframe tbody tr th {\n",
       "        vertical-align: top;\n",
       "    }\n",
       "\n",
       "    .dataframe thead th {\n",
       "        text-align: right;\n",
       "    }\n",
       "</style>\n",
       "<table border=\"1\" class=\"dataframe\">\n",
       "  <thead>\n",
       "    <tr style=\"text-align: right;\">\n",
       "      <th></th>\n",
       "      <th>text</th>\n",
       "      <th>segs</th>\n",
       "      <th>preds</th>\n",
       "      <th>probs</th>\n",
       "    </tr>\n",
       "  </thead>\n",
       "  <tbody>\n",
       "    <tr>\n",
       "      <th>0</th>\n",
       "      <td>[I worked at Google, I studied at Harvard]</td>\n",
       "      <td>{'Work Experience': ['I worked at Google'], 'Education': ['I studied at Harvard'], 'Certifications': [], 'Other': []}</td>\n",
       "      <td>[Work Experience, Education]</td>\n",
       "      <td>[0.98256487, 0.98468]</td>\n",
       "    </tr>\n",
       "    <tr>\n",
       "      <th>1</th>\n",
       "      <td>[I worked at Facebook, I studied at MIT]</td>\n",
       "      <td>{'Work Experience': ['I worked at Facebook'], 'Education': ['I studied at MIT'], 'Certifications': [], 'Other': []}</td>\n",
       "      <td>[Work Experience, Education]</td>\n",
       "      <td>[0.9836285, 0.98444146]</td>\n",
       "    </tr>\n",
       "  </tbody>\n",
       "</table>\n",
       "</div>"
      ],
      "text/plain": [
       "                                         text  \\\n",
       "0  [I worked at Google, I studied at Harvard]   \n",
       "1    [I worked at Facebook, I studied at MIT]   \n",
       "\n",
       "                                                                                                                    segs  \\\n",
       "0  {'Work Experience': ['I worked at Google'], 'Education': ['I studied at Harvard'], 'Certifications': [], 'Other': []}   \n",
       "1    {'Work Experience': ['I worked at Facebook'], 'Education': ['I studied at MIT'], 'Certifications': [], 'Other': []}   \n",
       "\n",
       "                          preds                    probs  \n",
       "0  [Work Experience, Education]    [0.98256487, 0.98468]  \n",
       "1  [Work Experience, Education]  [0.9836285, 0.98444146]  "
      ]
     },
     "execution_count": null,
     "metadata": {},
     "output_type": "execute_result"
    }
   ],
   "source": [
    "# | eval: false\n",
    "\n",
    "df = pd.DataFrame(\n",
    "    {\n",
    "        \"text\": [\n",
    "            [\"I worked at Google\", \"I studied at Harvard\"],\n",
    "            [\"I worked at Facebook\", \"I studied at MIT\"],\n",
    "        ]\n",
    "    }\n",
    ")\n",
    "\n",
    "m = SegsMapper()\n",
    "df = m(df)\n",
    "df"
   ]
  },
  {
   "cell_type": "code",
   "execution_count": null,
   "metadata": {},
   "outputs": [],
   "source": [
    "# | hide\n",
    "\n",
    "import nbdev\n",
    "\n",
    "nbdev.nbdev_export()"
   ]
  }
 ],
 "metadata": {
  "kernelspec": {
   "display_name": "python3",
   "language": "python",
   "name": "python3"
  }
 },
 "nbformat": 4,
 "nbformat_minor": 2
}
