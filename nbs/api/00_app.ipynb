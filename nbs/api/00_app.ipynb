{
 "cells": [
  {
   "attachments": {},
   "cell_type": "markdown",
   "metadata": {},
   "source": [
    "# App\n",
    "\n",
    "> FastAPI app"
   ]
  },
  {
   "cell_type": "code",
   "execution_count": null,
   "metadata": {},
   "outputs": [],
   "source": [
    "# | default_exp api.app"
   ]
  },
  {
   "cell_type": "code",
   "execution_count": null,
   "metadata": {},
   "outputs": [],
   "source": [
    "# | export\n",
    "\n",
    "from dreamai_ray.imports import *\n",
    "from dreamai_ray.utils import *\n",
    "from dreamai_ray.index.core import *"
   ]
  },
  {
   "cell_type": "code",
   "execution_count": null,
   "metadata": {},
   "outputs": [],
   "source": [
    "#| hide\n",
    "\n",
    "%load_ext autoreload\n",
    "%autoreload 2\n",
    "%reload_ext autoreload"
   ]
  },
  {
   "cell_type": "code",
   "execution_count": null,
   "metadata": {},
   "outputs": [],
   "source": [
    "# | export\n",
    "\n",
    "from time import time\n",
    "from fastapi import FastAPI, HTTPException\n",
    "from pydantic import BaseModel, Field, FilePath, DirectoryPath\n",
    "\n",
    "app = FastAPI()\n",
    "\n",
    "\n",
    "class IndexData(BaseModel):\n",
    "    ems_folder: str = Field(\n",
    "        title=\"The folder containing the embeddings.\",\n",
    "        description=\"It must be a directory. Can be local or remote.\",\n",
    "        regex=\".*\\/$\",\n",
    "        example=\"gs://gcsfuse-talentnet-dev/ems_1/\",\n",
    "    )\n",
    "    index_folder: str = Field(\n",
    "        title=\"The folder to write the indexes to.\",\n",
    "        description=\"It must be a directory. Can be local or remote.\",\n",
    "        regex=\".*\\/$\",\n",
    "        example=\"gs://gcsfuse-talentnet-dev/indexes_1/\",\n",
    "    )\n",
    "    # index_dim: int = Field(title=\"The dimension of the index.\", default=768)\n",
    "    # block_size: int = Field(title=\"The number of embeddings per index.\", default=4)\n",
    "\n",
    "\n",
    "class MatchData(BaseModel):\n",
    "    ems: str = Field(\n",
    "        title=\"The embedding to search.\",\n",
    "        description=\"It must be a json file. Not a directory.\",\n",
    "        regex=\".*\\.json\",\n",
    "        example=\"gs://gcsfuse-talentnet-dev/job_ems/job-088a1057-6742-4799-ac88-bd0aa059f958_13.json\",\n",
    "    )\n",
    "    index_folder: str = Field(\n",
    "        title=\"The remote folder containing the indexes.\",\n",
    "        regex=\".*\\/$\",\n",
    "        example=\"gs://gcsfuse-talentnet-dev/indexes_1/\",\n",
    "    )\n",
    "    # local_index_folder: str = Field(\n",
    "    #     title=\"The local folder to download the indexes to.\",\n",
    "    #     description=\"If `index_folder` is a local folder, this field is ignored.\",\n",
    "    #     regex=\".*\\/$\",\n",
    "    #     example=\"/media/hamza/data2/faiss_data/indexes_1/\",\n",
    "    # )\n",
    "    k: int = Field(title=\"The number of nearest neighbors to return.\", default=2)\n",
    "\n",
    "\n",
    "@app.get(\"/\")\n",
    "def read_root():\n",
    "    return {\"Hello\": \"World\"}\n",
    "\n",
    "\n",
    "@app.post(\"/index/create\")\n",
    "def create(index_data: IndexData):\n",
    "    t1 = time()\n",
    "    df = create_indexes(\n",
    "        ems_folder=index_data.ems_folder,\n",
    "        index_folder=index_data.index_folder,\n",
    "        index_dim=768,\n",
    "        # block_size=index_data.block_size,\n",
    "    )\n",
    "    t2 = time()\n",
    "    msg.good(f\"Time taken: {t2-t1:.2f} seconds.\", spaced=True)\n",
    "    return {\"index_folder\": index_data.index_folder}\n",
    "\n",
    "\n",
    "@app.post(\"/index/matching\")\n",
    "def match_ems(match_data: MatchData):\n",
    "    t1 = time()\n",
    "    res, _ = search_indexes(\n",
    "        ems=match_data.ems,\n",
    "        index_folder=match_data.index_folder,\n",
    "        # local_index_folder=match_data.local_index_folder,\n",
    "        k=match_data.k,\n",
    "    )\n",
    "    t2 = time()\n",
    "    msg.good(f\"Time taken: {t2-t1:.2f} seconds.\", spaced=True)\n",
    "    return res\n"
   ]
  },
  {
   "cell_type": "code",
   "execution_count": null,
   "metadata": {},
   "outputs": [],
   "source": [
    "# | hide\n",
    "# | eval: false\n",
    "\n",
    "qems = \"gs://gcsfuse-talentnet-dev/ems_1/resumes-4e2cdbeb-1e20-45ff-bded-a0a510350167_10.json\"\n",
    "index_folder = \"gs://gcsfuse-talentnet-dev/indexes_1\"\n",
    "local_index_folder = \"/media/hamza/data2/faiss_data/indexes_1/\"\n",
    "\n",
    "url = \"http://127.0.0.1:8000/index/matching\"\n",
    "headers = {\"accept\": \"application/json\", \"Content-Type\": \"application/json\"}\n",
    "data = {\"ems\": qems, \"k\": 2}\n",
    "\n",
    "response = requests.post(url, headers=headers, json=data)\n",
    "# response.json()\n"
   ]
  },
  {
   "cell_type": "code",
   "execution_count": null,
   "metadata": {},
   "outputs": [],
   "source": [
    "# | hide\n",
    "\n",
    "import nbdev\n",
    "\n",
    "nbdev.nbdev_export()\n"
   ]
  },
  {
   "cell_type": "code",
   "execution_count": null,
   "metadata": {},
   "outputs": [],
   "source": []
  }
 ],
 "metadata": {
  "kernelspec": {
   "display_name": "python3",
   "language": "python",
   "name": "python3"
  }
 },
 "nbformat": 4,
 "nbformat_minor": 2
}
