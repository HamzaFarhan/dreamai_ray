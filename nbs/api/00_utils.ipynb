{
 "cells": [
  {
   "attachments": {},
   "cell_type": "markdown",
   "metadata": {},
   "source": [
    "# Utils\n",
    "\n",
    "> API utils."
   ]
  },
  {
   "cell_type": "code",
   "execution_count": null,
   "metadata": {},
   "outputs": [],
   "source": [
    "# | default_exp api.utils"
   ]
  },
  {
   "cell_type": "code",
   "execution_count": null,
   "metadata": {},
   "outputs": [],
   "source": [
    "# | export\n",
    "\n",
    "from dreamai_ray.imports import *\n",
    "from dreamai_ray.utils import *\n",
    "from dreamai_ray.index.core import *\n",
    "from pydantic import BaseModel, Field"
   ]
  },
  {
   "cell_type": "code",
   "execution_count": null,
   "metadata": {},
   "outputs": [],
   "source": [
    "#| hide\n",
    "\n",
    "%load_ext autoreload\n",
    "%autoreload 2\n",
    "%reload_ext autoreload"
   ]
  },
  {
   "cell_type": "code",
   "execution_count": null,
   "metadata": {},
   "outputs": [],
   "source": [
    "# | export\n",
    "\n",
    "\n",
    "class IndexData(BaseModel):\n",
    "    ems_folder: str = Field(\n",
    "        title=\"The folder containing the embeddings.\",\n",
    "        description=\"It must be a directory. Can be local or remote.\",\n",
    "        regex=\".*\\/$\",\n",
    "        example=\"gs://gcsfuse-talentnet-dev/ems_1/\",\n",
    "    )\n",
    "    index_folder: str = Field(\n",
    "        title=\"The folder to write the indexes to.\",\n",
    "        description=\"It must be a directory. Can be local or remote.\",\n",
    "        regex=\".*\\/$\",\n",
    "        example=\"gs://gcsfuse-talentnet-dev/indexes_1/\",\n",
    "    )\n",
    "    # index_dim: int = Field(title=\"The dimension of the index.\", default=768)\n",
    "    # block_size: int = Field(title=\"The number of embeddings per index.\", default=4)\n",
    "\n",
    "\n",
    "class MatchData(BaseModel):\n",
    "    ems: str = Field(\n",
    "        title=\"The embedding to search.\",\n",
    "        description=\"It must be a json file. Not a directory.\",\n",
    "        regex=\".*\\.json\",\n",
    "        example=\"gs://gcsfuse-talentnet-dev/job_ems/job-088a1057-6742-4799-ac88-bd0aa059f958_13.json\",\n",
    "    )\n",
    "    index_folder: str = Field(\n",
    "        title=\"The remote folder containing the indexes.\",\n",
    "        regex=\".*\\/$\",\n",
    "        example=\"gs://gcsfuse-talentnet-dev/indexes_1/\",\n",
    "    )\n",
    "    # local_index_folder: str = Field(\n",
    "    #     title=\"The local folder to download the indexes to.\",\n",
    "    #     description=\"If `index_folder` is a local folder, this field is ignored.\",\n",
    "    #     regex=\".*\\/$\",\n",
    "    #     example=\"/media/hamza/data2/faiss_data/indexes_1/\",\n",
    "    # )\n",
    "    k: int = Field(title=\"The number of nearest neighbors to return.\", default=2)"
   ]
  },
  {
   "cell_type": "code",
   "execution_count": null,
   "metadata": {},
   "outputs": [],
   "source": [
    "# | hide\n",
    "\n",
    "import nbdev\n",
    "\n",
    "nbdev.nbdev_export()\n"
   ]
  }
 ],
 "metadata": {
  "kernelspec": {
   "display_name": "python3",
   "language": "python",
   "name": "python3"
  }
 },
 "nbformat": 4,
 "nbformat_minor": 2
}
