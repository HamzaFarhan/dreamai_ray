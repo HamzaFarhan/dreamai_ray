{
 "cells": [
  {
   "attachments": {},
   "cell_type": "markdown",
   "metadata": {},
   "source": [
    "# App\n",
    "\n",
    "> FastAPI app."
   ]
  },
  {
   "cell_type": "code",
   "execution_count": null,
   "metadata": {},
   "outputs": [],
   "source": [
    "# | default_exp api.app"
   ]
  },
  {
   "cell_type": "code",
   "execution_count": null,
   "metadata": {},
   "outputs": [],
   "source": [
    "# | export\n",
    "\n",
    "from fastapi import FastAPI\n",
    "from dreamai_ray.imports import *\n",
    "from dreamai_ray.utils import *\n",
    "from dreamai_ray.index.core import *\n",
    "from dreamai_ray.api.utils import *"
   ]
  },
  {
   "cell_type": "code",
   "execution_count": null,
   "metadata": {},
   "outputs": [],
   "source": [
    "#| hide\n",
    "\n",
    "%load_ext autoreload\n",
    "%autoreload 2\n",
    "%reload_ext autoreload"
   ]
  },
  {
   "cell_type": "code",
   "execution_count": null,
   "metadata": {},
   "outputs": [],
   "source": [
    "# | export\n",
    "\n",
    "\n",
    "app = FastAPI(title=\"DreamAI API\", version=\"0.0.2\")\n",
    "\n",
    "\n",
    "@app.get(\"/\")\n",
    "def read_root():\n",
    "    return {\"Hello\": \"World\"}\n",
    "\n",
    "\n",
    "@app.post(\"/index/create\")\n",
    "def create(index_data: IndexData):\n",
    "    t1 = time()\n",
    "    res = create_indexes(\n",
    "        ems_folder=index_data.ems_folder,\n",
    "        index_folder=index_data.index_folder,\n",
    "        index_dim=768,\n",
    "    )\n",
    "    t2 = time()\n",
    "    msg.good(f\"Time taken: {t2-t1:.2f} seconds.\", spaced=True)\n",
    "    return res.get(\"result\", res)\n",
    "\n",
    "@app.post(\"/index/add\")\n",
    "def add(index_data: IndexData):\n",
    "    t1 = time()\n",
    "    res = create_indexes(\n",
    "        ems_folder=index_data.ems_folder,\n",
    "        index_folder=index_data.index_folder,\n",
    "        index_dim=768,\n",
    "    )\n",
    "    t2 = time()\n",
    "    msg.good(f\"Time taken: {t2-t1:.2f} seconds.\", spaced=True)\n",
    "    return res.get(\"result\", res)\n",
    "\n",
    "@app.post(\"/index/matching\")\n",
    "def match_ems(match_data: MatchData):\n",
    "    t1 = time()\n",
    "    res = search_indexes(\n",
    "        ems=match_data.ems,\n",
    "        index_folder=match_data.index_folder,\n",
    "        k=match_data.k,\n",
    "    )\n",
    "    t2 = time()\n",
    "    msg.good(f\"Time taken: {t2-t1:.2f} seconds.\", spaced=True)\n",
    "    return res.get(\"result\", res)"
   ]
  },
  {
   "cell_type": "code",
   "execution_count": null,
   "metadata": {},
   "outputs": [],
   "source": [
    "# | hide\n",
    "# | eval: false\n",
    "\n",
    "qems = \"gs://gcsfuse-talentnet-dev/ems_1/resumes-4e2cdbeb-1e20-45ff-bded-a0a510350167_10.json\"\n",
    "index_folder = \"gs://gcsfuse-talentnet-dev/indexes_1\"\n",
    "local_index_folder = \"/media/hamza/data2/faiss_data/indexes_1/\"\n",
    "\n",
    "url = \"http://127.0.0.1:8000/index/matching\"\n",
    "headers = {\"accept\": \"application/json\", \"Content-Type\": \"application/json\"}\n",
    "data = {\"ems\": qems, \"k\": 2}\n",
    "\n",
    "# response = requests.post(url, headers=headers, json=data)\n",
    "# response.json()\n"
   ]
  },
  {
   "cell_type": "code",
   "execution_count": null,
   "metadata": {},
   "outputs": [],
   "source": [
    "# | hide\n",
    "\n",
    "import nbdev\n",
    "\n",
    "nbdev.nbdev_export()\n"
   ]
  }
 ],
 "metadata": {
  "kernelspec": {
   "display_name": "python3",
   "language": "python",
   "name": "python3"
  }
 },
 "nbformat": 4,
 "nbformat_minor": 2
}
