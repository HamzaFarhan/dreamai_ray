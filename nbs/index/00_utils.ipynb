{
 "cells": [
  {
   "attachments": {},
   "cell_type": "markdown",
   "metadata": {},
   "source": [
    "# Utils\n",
    "\n",
    "> Utils for indexing and searching."
   ]
  },
  {
   "cell_type": "code",
   "execution_count": null,
   "metadata": {},
   "outputs": [],
   "source": [
    "# | default_exp index.utils"
   ]
  },
  {
   "cell_type": "code",
   "execution_count": null,
   "metadata": {},
   "outputs": [],
   "source": [
    "# | export\n",
    "\n",
    "from dreamai_ray.imports import *\n",
    "from dreamai_ray.utils import *\n",
    "from dreamai_ray.mapper import *"
   ]
  },
  {
   "cell_type": "code",
   "execution_count": null,
   "metadata": {},
   "outputs": [],
   "source": [
    "#| hide\n",
    "\n",
    "%load_ext autoreload\n",
    "%autoreload 2\n",
    "%reload_ext autoreload"
   ]
  },
  {
   "cell_type": "code",
   "execution_count": null,
   "metadata": {},
   "outputs": [],
   "source": [
    "# | export\n",
    "\n",
    "\n",
    "def read_ems(\n",
    "    df,\n",
    "    ems_col=\"embedding\",\n",
    "    ems_key=\"embedding\",\n",
    "    task_folder=None,\n",
    "    task_id=gen_random_string(16),\n",
    "):\n",
    "    ems = df[ems_col]\n",
    "    if path_or_str(ems):\n",
    "        ems_path, _ = handle_input_path(ems, local_path=task_folder, task_id=task_id)\n",
    "        if Path(ems_path).is_dir():\n",
    "            ems_path = get_files(ems_path, extensions=[\".json\"])[0]\n",
    "        with open(ems_path, \"r\") as f:\n",
    "            ems = np.expand_dims(json.load(f)[ems_key], 0)\n",
    "        try:\n",
    "            shutil.rmtree(ems_path)\n",
    "        except:\n",
    "            os.remove(ems_path)\n",
    "    else:\n",
    "        ems = np.expand_dims(np.array(ems), 0)\n",
    "    return ems\n",
    "\n",
    "\n",
    "def create_index(dim=768):\n",
    "    return faiss.IndexFlatL2(dim)\n",
    "\n",
    "\n",
    "def index_heap(\n",
    "    df, k=1, dist_col=\"distances\", ids_col=\"ids\", size_col=\"index_size\", verbose=False\n",
    "):\n",
    "    rh = faiss.ResultHeap(nq=1, k=k)\n",
    "\n",
    "    ds = df[dist_col].tolist()\n",
    "    # if verbose:\n",
    "    # msg.info(f\"First 10 Distances: {ds[:10]}\")\n",
    "    ids = df[ids_col].tolist()\n",
    "    # if verbose:\n",
    "    # msg.info(f\"First 10 IDs: {ids[:10]}\")\n",
    "    sz = df[size_col].tolist()\n",
    "    # if verbose:\n",
    "    # msg.info(f\"First 10 Index Sizes: {sz[:10]}\")\n",
    "    for i in range(len(ds)):\n",
    "        offset = sum(sz[:i])\n",
    "        if verbose:\n",
    "            msg.info(f\"Adding Result: {ds[i]}, {ids[i] + offset}\")\n",
    "        rh.add_result(ds[i], ids[i] + offset)\n",
    "        if verbose:\n",
    "            msg.good(f\"Added Result: {ds[i]}, {ids[i] + offset}\")\n",
    "    rh.finalize()\n",
    "    return {\"distances\": rh.D.tolist(), \"ids\": rh.I.tolist()}\n",
    "\n",
    "\n",
    "def random_ems(num_ems=100, ems_dim=768, ems_folder=\"embeddings\"):\n",
    "    \"Generate random embeddings and save them to a folder\"\n",
    "\n",
    "    ems = [np.random.random((1, ems_dim))[0].tolist() for i in range(num_ems)]\n",
    "    os.makedirs(ems_folder, exist_ok=True)\n",
    "    for i, em in enumerate(ems):\n",
    "        em_path = str(Path(ems_folder) / f\"em_{i}.json\")\n",
    "        json.dump({\"embedding\": em}, open(em_path, \"w\"))"
   ]
  },
  {
   "cell_type": "code",
   "execution_count": null,
   "metadata": {},
   "outputs": [],
   "source": [
    "# | hide\n",
    "\n",
    "import nbdev\n",
    "\n",
    "nbdev.nbdev_export()\n"
   ]
  }
 ],
 "metadata": {
  "kernelspec": {
   "display_name": "python3",
   "language": "python",
   "name": "python3"
  }
 },
 "nbformat": 4,
 "nbformat_minor": 2
}
