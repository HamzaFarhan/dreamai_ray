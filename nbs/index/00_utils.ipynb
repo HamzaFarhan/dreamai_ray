{
 "cells": [
  {
   "attachments": {},
   "cell_type": "markdown",
   "metadata": {},
   "source": [
    "# Utils\n",
    "\n",
    "> Utils for indexing and searching."
   ]
  },
  {
   "cell_type": "code",
   "execution_count": null,
   "metadata": {},
   "outputs": [],
   "source": [
    "# | default_exp index.utils\n"
   ]
  },
  {
   "cell_type": "code",
   "execution_count": null,
   "metadata": {},
   "outputs": [],
   "source": [
    "# | export\n",
    "\n",
    "from dreamai_ray.imports import *\n",
    "from dreamai_ray.utils import *\n",
    "from dreamai_ray.mapper import *\n"
   ]
  },
  {
   "cell_type": "code",
   "execution_count": null,
   "metadata": {},
   "outputs": [],
   "source": [
    "#| hide\n",
    "\n",
    "%load_ext autoreload\n",
    "%autoreload 2\n",
    "%reload_ext autoreload"
   ]
  },
  {
   "cell_type": "code",
   "execution_count": null,
   "metadata": {},
   "outputs": [],
   "source": [
    "# | export\n",
    "\n",
    "\n",
    "def read_ems(\n",
    "    df,\n",
    "    ems_col=\"embedding\",\n",
    "    ems_key=\"embedding\",\n",
    "    task_folder=None,\n",
    "    task_id=gen_random_string(16),\n",
    "):\n",
    "    ems = df[ems_col]\n",
    "    if path_or_str(ems):\n",
    "        ems_path, _ = handle_input_path(ems, local_path=task_folder, task_id=task_id)\n",
    "        if Path(ems_path).is_dir():\n",
    "            ems_path = get_files(ems_path, extensions=[\".json\"])[0]\n",
    "        with open(ems_path, \"r\") as f:\n",
    "            ems = np.expand_dims(json.load(f)[ems_key], 0)\n",
    "        try:\n",
    "            shutil.rmtree(ems_path)\n",
    "        except:\n",
    "            os.remove(ems_path)\n",
    "    else:\n",
    "        ems = np.expand_dims(np.array(ems), 0)\n",
    "    return ems\n",
    "\n",
    "\n",
    "def create_index(dim=768):\n",
    "    return faiss.IndexFlatL2(dim)\n",
    "\n",
    "\n",
    "def index_heap(\n",
    "    df,\n",
    "    k=1,\n",
    "    dist_col=\"distances\",\n",
    "    ids_col=\"ids\",\n",
    "    size_col=\"index_size\",\n",
    "    verbose=False,\n",
    "    with_offset=False,\n",
    "):\n",
    "    rh = faiss.ResultHeap(nq=1, k=k)\n",
    "\n",
    "    ds = df[dist_col].tolist()\n",
    "    ids = df[ids_col].tolist()\n",
    "    sz = df[size_col].tolist()\n",
    "    for i in range(len(ds)):\n",
    "        if with_offset:\n",
    "            offset = sum(sz[:i])\n",
    "        else:\n",
    "            offset = 0\n",
    "        msg.info(f\"Adding Result: {ds[i]}, {ids[i] + offset}\", show=verbose)\n",
    "        rh.add_result(ds[i], ids[i] + offset)\n",
    "        msg.good(f\"Added Result: {ds[i]}, {ids[i] + offset}\", show=verbose)\n",
    "    rh.finalize()\n",
    "    return {\"distances\": rh.D.tolist(), \"ids\": rh.I.tolist()}\n",
    "\n",
    "\n",
    "def random_ems(num_ems=100, ems_dim=768, ems_folder=\"embeddings\"):\n",
    "    \"Generate random embeddings and save them to a folder\"\n",
    "\n",
    "    ems = [np.random.random((1, ems_dim))[0].tolist() for i in range(num_ems)]\n",
    "    os.makedirs(ems_folder, exist_ok=True)\n",
    "    for i, em in enumerate(ems):\n",
    "        em_path = str(Path(ems_folder) / f\"em_{i}.json\")\n",
    "        json.dump({\"embedding\": em}, open(em_path, \"w\"))"
   ]
  },
  {
   "cell_type": "code",
   "execution_count": null,
   "metadata": {},
   "outputs": [
    {
     "data": {
      "text/plain": [
       "(array([[0.]], dtype=float32), array([[0]]))"
      ]
     },
     "execution_count": null,
     "metadata": {},
     "output_type": "execute_result"
    }
   ],
   "source": [
    "# | hide\n",
    "# | eval: false\n",
    "\n",
    "\n",
    "index = create_index(3)\n",
    "df = pd.DataFrame({\"embedding\": [[1, 2, 3], [4, 5, 6], [7, 8, 9], [10, 11, 12]]})\n",
    "index.add(np.array([[1, 2, 3]]))\n",
    "index.search(np.expand_dims(np.array([1, 2, 3]), 0), 1)\n"
   ]
  },
  {
   "cell_type": "code",
   "execution_count": null,
   "metadata": {},
   "outputs": [],
   "source": [
    "# | hide\n",
    "\n",
    "import nbdev\n",
    "\n",
    "nbdev.nbdev_export()"
   ]
  }
 ],
 "metadata": {
  "kernelspec": {
   "display_name": "python3",
   "language": "python",
   "name": "python3"
  }
 },
 "nbformat": 4,
 "nbformat_minor": 2
}
