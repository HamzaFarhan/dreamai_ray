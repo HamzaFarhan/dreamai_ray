{
 "cells": [
  {
   "attachments": {},
   "cell_type": "markdown",
   "metadata": {},
   "source": [
    "# Utils\n",
    "\n",
    "> Utils for indexing and searching."
   ]
  },
  {
   "cell_type": "code",
   "execution_count": null,
   "metadata": {},
   "outputs": [],
   "source": [
    "# | default_exp index.utils\n"
   ]
  },
  {
   "cell_type": "code",
   "execution_count": null,
   "metadata": {},
   "outputs": [],
   "source": [
    "# | export\n",
    "\n",
    "from dreamai_ray.imports import *\n",
    "from dreamai_ray.utils import *\n",
    "from dreamai_ray.mapper import *\n"
   ]
  },
  {
   "cell_type": "code",
   "execution_count": null,
   "metadata": {},
   "outputs": [],
   "source": [
    "#| hide\n",
    "\n",
    "%load_ext autoreload\n",
    "%autoreload 2\n",
    "%reload_ext autoreload"
   ]
  },
  {
   "cell_type": "code",
   "execution_count": null,
   "metadata": {},
   "outputs": [],
   "source": [
    "# | export\n",
    "\n",
    "\n",
    "def create_index(dim=768):\n",
    "    return faiss.IndexFlatL2(dim)\n",
    "\n",
    "\n",
    "def index_heap(\n",
    "    df, k=1, dist_col=\"distances\", ids_col=\"ids\", size_col=\"index_size\", verbose=False\n",
    "):\n",
    "    rh = faiss.ResultHeap(nq=1, k=k)\n",
    "\n",
    "    ds = df[dist_col].tolist()\n",
    "    if verbose:\n",
    "        msg.info(f\"Distances: {ds}\")\n",
    "    ids = df[ids_col].tolist()\n",
    "    if verbose:\n",
    "        msg.info(f\"IDs: {ids}\")\n",
    "    sz = df[size_col].tolist()\n",
    "    if verbose:\n",
    "        msg.info(f\"Index Size: {sz}\")\n",
    "    for i in range(len(ds)):\n",
    "        offset = sum(sz[:i])\n",
    "        if verbose:\n",
    "            msg.info(f\"Adding Result: {ds[i]}, {ids[i] + offset}\")\n",
    "        rh.add_result(ds[i], ids[i] + offset)\n",
    "        if verbose:\n",
    "            msg.good(f\"Added Result: {ds[i]}, {ids[i] + offset}\")\n",
    "    rh.finalize()\n",
    "    return {\"distances\": rh.D, \"ids\": rh.I}"
   ]
  },
  {
   "cell_type": "code",
   "execution_count": null,
   "metadata": {},
   "outputs": [],
   "source": [
    "# | hide\n",
    "\n",
    "import nbdev\n",
    "\n",
    "nbdev.nbdev_export()"
   ]
  }
 ],
 "metadata": {
  "kernelspec": {
   "display_name": "python3",
   "language": "python",
   "name": "python3"
  }
 },
 "nbformat": 4,
 "nbformat_minor": 2
}
