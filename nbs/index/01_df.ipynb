{
 "cells": [
  {
   "attachments": {},
   "cell_type": "markdown",
   "metadata": {},
   "source": [
    "# DF Processors\n",
    "\n",
    "> Functions to be applied on DataFrames for indexing and searching."
   ]
  },
  {
   "cell_type": "code",
   "execution_count": null,
   "metadata": {},
   "outputs": [],
   "source": [
    "# | default_exp index.df\n"
   ]
  },
  {
   "cell_type": "code",
   "execution_count": null,
   "metadata": {},
   "outputs": [],
   "source": [
    "# | export\n",
    "\n",
    "from dreamai_ray.imports import *\n",
    "from dreamai_ray.utils import *\n",
    "from dreamai_ray.mapper import *\n",
    "from dreamai_ray.index.utils import *\n"
   ]
  },
  {
   "cell_type": "code",
   "execution_count": null,
   "metadata": {},
   "outputs": [],
   "source": [
    "#| hide\n",
    "\n",
    "%load_ext autoreload\n",
    "%autoreload 2\n",
    "%reload_ext autoreload"
   ]
  },
  {
   "cell_type": "code",
   "execution_count": null,
   "metadata": {},
   "outputs": [],
   "source": [
    "# | export\n",
    "\n",
    "\n",
    "def df_to_index(\n",
    "    df,\n",
    "    index,\n",
    "    ems_col=\"embedding\",  # Column name of embeddings in df.\n",
    "    ems_key=\"embedding\",  # Key name of embeddings in json file.\n",
    "    verbose=False,  # Whether to print out information.\n",
    "):\n",
    "    \"Add the embeddings in df to the index.\"\n",
    "\n",
    "    ems = read_ems(df, ems_col=ems_col, ems_key=ems_key)\n",
    "    if verbose:\n",
    "        msg.info(f\"Ems Shape: {ems.shape}\")\n",
    "    index.add(ems)\n",
    "    if verbose:\n",
    "        msg.info(f\"Index Size: {index.ntotal}\")\n",
    "    return df\n",
    "\n",
    "\n",
    "def df_index_search(\n",
    "    df,\n",
    "    ems_col=\"embedding\",  # Column name of embeddings in df.\n",
    "    ems_key=\"embedding\",  # Key name of embeddings in json file.\n",
    "    index_col=\"index\",  # Column name of index in df.\n",
    "    k=1,  # Number of nearest neighbors to return.\n",
    "    verbose=False,  # Whether to print out information.\n",
    "):\n",
    "    \"Find the nearest neighbors of the embeddings in df.\"\n",
    "\n",
    "    if verbose:\n",
    "        msg.info(f\"Index Col: {df[index_col]}\")\n",
    "    index = faiss.read_index(str(df[index_col]))\n",
    "    if verbose:\n",
    "        msg.info(f\"Index Size: {index.ntotal}\")\n",
    "    ems = read_ems(df, ems_col=ems_col, ems_key=ems_key)\n",
    "    if verbose:\n",
    "        msg.info(f\"Ems Shape: {ems.shape}\")\n",
    "    d, i = index.search(ems, k)\n",
    "    if verbose:\n",
    "        msg.good(f\"IDs: {i}, Distances: {d}\")\n",
    "    df[\"index_size\"] = index.ntotal\n",
    "    df[\"distances\"] = d  # .tolist()[0]\n",
    "    df[\"ids\"] = i  # .tolist()[0]\n",
    "    return df"
   ]
  },
  {
   "attachments": {},
   "cell_type": "markdown",
   "metadata": {},
   "source": [
    "## Usage Example"
   ]
  },
  {
   "cell_type": "code",
   "execution_count": null,
   "metadata": {},
   "outputs": [
    {
     "name": "stdout",
     "output_type": "stream",
     "text": [
      "\u001b[38;5;4mℹ Ems Shape: (1, 768)\u001b[0m\n",
      "\u001b[38;5;4mℹ Index Size: 1\u001b[0m\n",
      "\u001b[38;5;4mℹ Ems Shape: (1, 768)\u001b[0m\n",
      "\u001b[38;5;4mℹ Index Size: 2\u001b[0m\n",
      "\u001b[38;5;4mℹ Ems Shape: (1, 768)\u001b[0m\n",
      "\u001b[38;5;4mℹ Index Size: 3\u001b[0m\n",
      "\u001b[38;5;4mℹ Ems Shape: (1, 768)\u001b[0m\n",
      "\u001b[38;5;4mℹ Index Size: 4\u001b[0m\n",
      "\u001b[38;5;4mℹ Ems Shape: (1, 768)\u001b[0m\n",
      "\u001b[38;5;4mℹ Index Size: 5\u001b[0m\n"
     ]
    }
   ],
   "source": [
    "# | eval: false\n",
    "\n",
    "index_dim = 768\n",
    "np.random.seed(42)\n",
    "num_ems = 5\n",
    "ems = [np.random.random((1, index_dim))[0].tolist() for i in range(num_ems)]\n",
    "df = pd.DataFrame({\"embedding\": ems})\n",
    "index = create_index(index_dim)\n",
    "\n",
    "df = df.apply(lambda x: df_to_index(x, index, verbose=True), axis=1)\n",
    "faiss.write_index(index, \"index.faiss\")\n"
   ]
  },
  {
   "cell_type": "code",
   "execution_count": null,
   "metadata": {},
   "outputs": [
    {
     "name": "stdout",
     "output_type": "stream",
     "text": [
      "\u001b[38;5;4mℹ Index Col: index.faiss\u001b[0m\n",
      "\u001b[38;5;4mℹ Index Size: 5\u001b[0m\n",
      "\u001b[38;5;4mℹ Ems Shape: (1, 768)\u001b[0m\n",
      "\u001b[38;5;2m✔ IDs: [[0 3]], Distances: [[  0.      128.68584]]\u001b[0m\n"
     ]
    },
    {
     "data": {
      "text/html": [
       "<div>\n",
       "<style scoped>\n",
       "    .dataframe tbody tr th:only-of-type {\n",
       "        vertical-align: middle;\n",
       "    }\n",
       "\n",
       "    .dataframe tbody tr th {\n",
       "        vertical-align: top;\n",
       "    }\n",
       "\n",
       "    .dataframe thead th {\n",
       "        text-align: right;\n",
       "    }\n",
       "</style>\n",
       "<table border=\"1\" class=\"dataframe\">\n",
       "  <thead>\n",
       "    <tr style=\"text-align: right;\">\n",
       "      <th></th>\n",
       "      <th>index</th>\n",
       "      <th>embedding</th>\n",
       "      <th>index_size</th>\n",
       "      <th>distances</th>\n",
       "      <th>ids</th>\n",
       "    </tr>\n",
       "  </thead>\n",
       "  <tbody>\n",
       "    <tr>\n",
       "      <th>0</th>\n",
       "      <td>index.faiss</td>\n",
       "      <td>[0.3745401188473625, 0.9507143064099162, 0.7319939418114051, 0.5986584841970366, 0.15601864044243652, 0.15599452033620265, 0.05808361216819946, 0.8661761457749352, 0.6011150117432088, 0.7080725777960455, 0.020584494295802447, 0.9699098521619943, 0.8324426408004217, 0.21233911067827616, 0.18182496720710062, 0.18340450985343382, 0.3042422429595377, 0.5247564316322378, 0.43194501864211576, 0.2912291401980419, 0.6118528947223795, 0.13949386065204183, 0.29214464853521815, 0.3663618432936917, 0.45606998421703593, 0.7851759613930136, 0.19967378215835974, 0.5142344384136116, 0.5924145688620425, 0....</td>\n",
       "      <td>5</td>\n",
       "      <td>[[0.0, 128.68584]]</td>\n",
       "      <td>[[0, 3]]</td>\n",
       "    </tr>\n",
       "  </tbody>\n",
       "</table>\n",
       "</div>"
      ],
      "text/plain": [
       "         index  \\\n",
       "0  index.faiss   \n",
       "\n",
       "                                                                                                                                                                                                                                                                                                                                                                                                                                                                                                                                                                                                                 embedding  \\\n",
       "0  [0.3745401188473625, 0.9507143064099162, 0.7319939418114051, 0.5986584841970366, 0.15601864044243652, 0.15599452033620265, 0.05808361216819946, 0.8661761457749352, 0.6011150117432088, 0.7080725777960455, 0.020584494295802447, 0.9699098521619943, 0.8324426408004217, 0.21233911067827616, 0.18182496720710062, 0.18340450985343382, 0.3042422429595377, 0.5247564316322378, 0.43194501864211576, 0.2912291401980419, 0.6118528947223795, 0.13949386065204183, 0.29214464853521815, 0.3663618432936917, 0.45606998421703593, 0.7851759613930136, 0.19967378215835974, 0.5142344384136116, 0.5924145688620425, 0....   \n",
       "\n",
       "   index_size           distances       ids  \n",
       "0           5  [[0.0, 128.68584]]  [[0, 3]]  "
      ]
     },
     "execution_count": null,
     "metadata": {},
     "output_type": "execute_result"
    }
   ],
   "source": [
    "# | eval: false\n",
    "\n",
    "df = pd.DataFrame({\"index\": [\"index.faiss\"], \"embedding\": [ems[0]]})\n",
    "df = df.apply(lambda x: df_index_search(x, k=2, verbose=True), axis=1)\n",
    "df"
   ]
  },
  {
   "cell_type": "code",
   "execution_count": null,
   "metadata": {},
   "outputs": [],
   "source": [
    "# | hide\n",
    "\n",
    "import nbdev\n",
    "\n",
    "nbdev.nbdev_export()"
   ]
  }
 ],
 "metadata": {
  "kernelspec": {
   "display_name": "python3",
   "language": "python",
   "name": "python3"
  }
 },
 "nbformat": 4,
 "nbformat_minor": 2
}
