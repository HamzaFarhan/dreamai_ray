{
 "cells": [
  {
   "attachments": {},
   "cell_type": "markdown",
   "metadata": {},
   "source": [
    "# Mappers\n",
    "\n",
    "> Mapper classes for indexing and searching."
   ]
  },
  {
   "cell_type": "code",
   "execution_count": null,
   "metadata": {},
   "outputs": [],
   "source": [
    "# | default_exp index.mappers\n"
   ]
  },
  {
   "cell_type": "code",
   "execution_count": null,
   "metadata": {},
   "outputs": [],
   "source": [
    "# | export\n",
    "\n",
    "from dreamai_ray.imports import *\n",
    "from dreamai_ray.utils import *\n",
    "from dreamai_ray.mapper import *\n",
    "from dreamai_ray.index.utils import *\n",
    "from dreamai_ray.index.df import *\n"
   ]
  },
  {
   "cell_type": "code",
   "execution_count": null,
   "metadata": {},
   "outputs": [],
   "source": [
    "#| hide\n",
    "\n",
    "%load_ext autoreload\n",
    "%autoreload 2\n",
    "%reload_ext autoreload"
   ]
  },
  {
   "cell_type": "code",
   "execution_count": null,
   "metadata": {},
   "outputs": [],
   "source": [
    "# | export\n",
    "\n",
    "\n",
    "from dreamai_ray.imports import noop\n",
    "\n",
    "\n",
    "class write_index_cb(Callback):\n",
    "    \"A `Callback` to write the index to disk.\"\n",
    "\n",
    "    def __init__(self, verbose=False) -> None:\n",
    "        self.verbose = verbose\n",
    "\n",
    "    def after_batch(self, cls, **kwargs):\n",
    "        cls.index = cls.udf_kwargs[\"index\"]\n",
    "        index_folder = cls.index_folder\n",
    "        os.makedirs(index_folder, exist_ok=True)\n",
    "        index_path = str(Path(index_folder) / f\"{cls.block_counter}.faiss\")\n",
    "        if self.verbose and cls.verbose:\n",
    "            msg.info(f\"Writing Index to {index_path}\")\n",
    "            msg.info(f\"Index Size: {cls.index.ntotal}\")\n",
    "        faiss.write_index(cls.index, index_path)\n",
    "\n",
    "\n",
    "class reset_index_cb(Callback):\n",
    "    \"A `Callback` to reset the index.\"\n",
    "\n",
    "    def __init__(self, verbose=True) -> None:\n",
    "        self.verbose = verbose\n",
    "\n",
    "    def after_batch(self, cls, **kwargs):\n",
    "        cls.index.reset()\n",
    "        if self.verbose and cls.verbose:\n",
    "            msg.info(f\"Index Size Post Reset: {cls.index.ntotal}\")\n",
    "        cls.udf_kwargs[\"index\"] = cls.index\n",
    "        cls.udf = partial(cls.udf, **cls.udf_kwargs)\n",
    "\n",
    "\n",
    "class CreateIndex(Mapper):\n",
    "    \"\"\"\n",
    "    Creates an index from embeddings.\n",
    "    \"\"\"\n",
    "\n",
    "    def __init__(\n",
    "        self,\n",
    "        index_dim=3,  # The dimension of the index.\n",
    "        index_folder=\"indexes\",  # The folder to write the index to.\n",
    "        ems_col=\"embedding\",  # The column to use to create the index.\n",
    "        udf=df_to_index,  # The function to use to create the index.\n",
    "        cbs=[write_index_cb, reset_index_cb],  # The `Callback`s to use.\n",
    "        verbose=True,  # Whether to print out information.\n",
    "        udf_kwargs={},  # Additional kwargs to pass to the udf.\n",
    "        **kwargs,\n",
    "    ):\n",
    "        self.index_folder = index_folder\n",
    "        self.index = create_index(index_dim)\n",
    "        udf_kwargs[\"index\"] = self.index\n",
    "        udf_kwargs[\"ems_col\"] = ems_col\n",
    "        udf_kwargs[\"verbose\"] = verbose\n",
    "        self.verbose = verbose\n",
    "        super().__init__(**locals_to_params(locals()))\n"
   ]
  },
  {
   "attachments": {},
   "cell_type": "markdown",
   "metadata": {},
   "source": [
    "## Usage Example"
   ]
  },
  {
   "cell_type": "code",
   "execution_count": null,
   "metadata": {},
   "outputs": [
    {
     "name": "stdout",
     "output_type": "stream",
     "text": [
      "\n",
      "\u001b[38;5;4mℹ BLOCK COUNTER: 0\u001b[0m\n",
      "\n"
     ]
    }
   ],
   "source": [
    "# | eval: false\n",
    "\n",
    "index_dim = 768\n",
    "index_folder = \"indexes\"\n",
    "shutil.rmtree(index_folder, ignore_errors=True)\n",
    "m = CreateIndex(index_dim=index_dim, index_folder=index_folder, verbose=False)\n"
   ]
  },
  {
   "cell_type": "code",
   "execution_count": null,
   "metadata": {},
   "outputs": [],
   "source": [
    "# | eval: false\n",
    "\n",
    "np.random.seed(42)\n",
    "num_ems = 100\n",
    "block_size = 25\n",
    "ems = [np.random.random((1, index_dim))[0].tolist() for i in range(num_ems)]\n",
    "df = pd.DataFrame({\"embedding\": ems})"
   ]
  },
  {
   "cell_type": "code",
   "execution_count": null,
   "metadata": {},
   "outputs": [
    {
     "name": "stdout",
     "output_type": "stream",
     "text": [
      "\n",
      "\u001b[38;5;4mℹ DF BATCH SIZE: 25\u001b[0m\n",
      "\n",
      "\n",
      "\u001b[38;5;4mℹ BLOCK COUNTER: 1\u001b[0m\n",
      "\n",
      "\n",
      "\u001b[38;5;4mℹ DF BATCH SIZE: 25\u001b[0m\n",
      "\n",
      "\n",
      "\u001b[38;5;4mℹ BLOCK COUNTER: 2\u001b[0m\n",
      "\n",
      "\n",
      "\u001b[38;5;4mℹ DF BATCH SIZE: 25\u001b[0m\n",
      "\n",
      "\n",
      "\u001b[38;5;4mℹ BLOCK COUNTER: 3\u001b[0m\n",
      "\n",
      "\n",
      "\u001b[38;5;4mℹ DF BATCH SIZE: 25\u001b[0m\n",
      "\n",
      "\n",
      "\u001b[38;5;4mℹ BLOCK COUNTER: 4\u001b[0m\n",
      "\n"
     ]
    }
   ],
   "source": [
    "# | eval: false\n",
    "\n",
    "for i in range(0, num_ems, block_size):\n",
    "    df_block = df.iloc[i : i + block_size]\n",
    "    m(df_block)\n"
   ]
  },
  {
   "cell_type": "code",
   "execution_count": null,
   "metadata": {},
   "outputs": [
    {
     "data": {
      "text/html": [
       "<div>\n",
       "<style scoped>\n",
       "    .dataframe tbody tr th:only-of-type {\n",
       "        vertical-align: middle;\n",
       "    }\n",
       "\n",
       "    .dataframe tbody tr th {\n",
       "        vertical-align: top;\n",
       "    }\n",
       "\n",
       "    .dataframe thead th {\n",
       "        text-align: right;\n",
       "    }\n",
       "</style>\n",
       "<table border=\"1\" class=\"dataframe\">\n",
       "  <thead>\n",
       "    <tr style=\"text-align: right;\">\n",
       "      <th></th>\n",
       "      <th>index</th>\n",
       "      <th>embedding</th>\n",
       "      <th>index_size</th>\n",
       "      <th>distances</th>\n",
       "      <th>ids</th>\n",
       "    </tr>\n",
       "  </thead>\n",
       "  <tbody>\n",
       "    <tr>\n",
       "      <th>0</th>\n",
       "      <td>indexes/1.faiss</td>\n",
       "      <td>[0.8567253358051695, 0.9884348472741084, 0.12180743223842172, 0.6510805836569036, 0.0024137544009764644, 0.04902948617458236, 0.2850010200860553, 0.8464040844196341, 0.6525009014377374, 0.44582093197232686, 0.4385984736023928, 0.46605357435312667, 0.3110331078010038, 0.8777145176255143, 0.5678691311997973, 0.48394996352585284, 0.46507660315710386, 0.9358264668979426, 0.7236619282196818, 0.14481455471658566, 0.4369701699432651, 0.2883722104145233, 0.9868686577301626, 0.4153957063131808, 0.06787010302978236, 0.41121200146280434, 0.3213502806059353, 0.5995826470782478, 0.22607817522902984, 0....</td>\n",
       "      <td>25</td>\n",
       "      <td>[[114.96378, 121.50348]]</td>\n",
       "      <td>[[9, 21]]</td>\n",
       "    </tr>\n",
       "    <tr>\n",
       "      <th>1</th>\n",
       "      <td>indexes/2.faiss</td>\n",
       "      <td>[0.8567253358051695, 0.9884348472741084, 0.12180743223842172, 0.6510805836569036, 0.0024137544009764644, 0.04902948617458236, 0.2850010200860553, 0.8464040844196341, 0.6525009014377374, 0.44582093197232686, 0.4385984736023928, 0.46605357435312667, 0.3110331078010038, 0.8777145176255143, 0.5678691311997973, 0.48394996352585284, 0.46507660315710386, 0.9358264668979426, 0.7236619282196818, 0.14481455471658566, 0.4369701699432651, 0.2883722104145233, 0.9868686577301626, 0.4153957063131808, 0.06787010302978236, 0.41121200146280434, 0.3213502806059353, 0.5995826470782478, 0.22607817522902984, 0....</td>\n",
       "      <td>25</td>\n",
       "      <td>[[121.56019, 123.57507]]</td>\n",
       "      <td>[[17, 7]]</td>\n",
       "    </tr>\n",
       "    <tr>\n",
       "      <th>2</th>\n",
       "      <td>indexes/3.faiss</td>\n",
       "      <td>[0.8567253358051695, 0.9884348472741084, 0.12180743223842172, 0.6510805836569036, 0.0024137544009764644, 0.04902948617458236, 0.2850010200860553, 0.8464040844196341, 0.6525009014377374, 0.44582093197232686, 0.4385984736023928, 0.46605357435312667, 0.3110331078010038, 0.8777145176255143, 0.5678691311997973, 0.48394996352585284, 0.46507660315710386, 0.9358264668979426, 0.7236619282196818, 0.14481455471658566, 0.4369701699432651, 0.2883722104145233, 0.9868686577301626, 0.4153957063131808, 0.06787010302978236, 0.41121200146280434, 0.3213502806059353, 0.5995826470782478, 0.22607817522902984, 0....</td>\n",
       "      <td>25</td>\n",
       "      <td>[[0.0, 120.62366]]</td>\n",
       "      <td>[[10, 14]]</td>\n",
       "    </tr>\n",
       "    <tr>\n",
       "      <th>3</th>\n",
       "      <td>indexes/4.faiss</td>\n",
       "      <td>[0.8567253358051695, 0.9884348472741084, 0.12180743223842172, 0.6510805836569036, 0.0024137544009764644, 0.04902948617458236, 0.2850010200860553, 0.8464040844196341, 0.6525009014377374, 0.44582093197232686, 0.4385984736023928, 0.46605357435312667, 0.3110331078010038, 0.8777145176255143, 0.5678691311997973, 0.48394996352585284, 0.46507660315710386, 0.9358264668979426, 0.7236619282196818, 0.14481455471658566, 0.4369701699432651, 0.2883722104145233, 0.9868686577301626, 0.4153957063131808, 0.06787010302978236, 0.41121200146280434, 0.3213502806059353, 0.5995826470782478, 0.22607817522902984, 0....</td>\n",
       "      <td>25</td>\n",
       "      <td>[[124.59711, 125.72464]]</td>\n",
       "      <td>[[13, 15]]</td>\n",
       "    </tr>\n",
       "  </tbody>\n",
       "</table>\n",
       "</div>"
      ],
      "text/plain": [
       "             index  \\\n",
       "0  indexes/1.faiss   \n",
       "1  indexes/2.faiss   \n",
       "2  indexes/3.faiss   \n",
       "3  indexes/4.faiss   \n",
       "\n",
       "                                                                                                                                                                                                                                                                                                                                                                                                                                                                                                                                                                                                                 embedding  \\\n",
       "0  [0.8567253358051695, 0.9884348472741084, 0.12180743223842172, 0.6510805836569036, 0.0024137544009764644, 0.04902948617458236, 0.2850010200860553, 0.8464040844196341, 0.6525009014377374, 0.44582093197232686, 0.4385984736023928, 0.46605357435312667, 0.3110331078010038, 0.8777145176255143, 0.5678691311997973, 0.48394996352585284, 0.46507660315710386, 0.9358264668979426, 0.7236619282196818, 0.14481455471658566, 0.4369701699432651, 0.2883722104145233, 0.9868686577301626, 0.4153957063131808, 0.06787010302978236, 0.41121200146280434, 0.3213502806059353, 0.5995826470782478, 0.22607817522902984, 0....   \n",
       "1  [0.8567253358051695, 0.9884348472741084, 0.12180743223842172, 0.6510805836569036, 0.0024137544009764644, 0.04902948617458236, 0.2850010200860553, 0.8464040844196341, 0.6525009014377374, 0.44582093197232686, 0.4385984736023928, 0.46605357435312667, 0.3110331078010038, 0.8777145176255143, 0.5678691311997973, 0.48394996352585284, 0.46507660315710386, 0.9358264668979426, 0.7236619282196818, 0.14481455471658566, 0.4369701699432651, 0.2883722104145233, 0.9868686577301626, 0.4153957063131808, 0.06787010302978236, 0.41121200146280434, 0.3213502806059353, 0.5995826470782478, 0.22607817522902984, 0....   \n",
       "2  [0.8567253358051695, 0.9884348472741084, 0.12180743223842172, 0.6510805836569036, 0.0024137544009764644, 0.04902948617458236, 0.2850010200860553, 0.8464040844196341, 0.6525009014377374, 0.44582093197232686, 0.4385984736023928, 0.46605357435312667, 0.3110331078010038, 0.8777145176255143, 0.5678691311997973, 0.48394996352585284, 0.46507660315710386, 0.9358264668979426, 0.7236619282196818, 0.14481455471658566, 0.4369701699432651, 0.2883722104145233, 0.9868686577301626, 0.4153957063131808, 0.06787010302978236, 0.41121200146280434, 0.3213502806059353, 0.5995826470782478, 0.22607817522902984, 0....   \n",
       "3  [0.8567253358051695, 0.9884348472741084, 0.12180743223842172, 0.6510805836569036, 0.0024137544009764644, 0.04902948617458236, 0.2850010200860553, 0.8464040844196341, 0.6525009014377374, 0.44582093197232686, 0.4385984736023928, 0.46605357435312667, 0.3110331078010038, 0.8777145176255143, 0.5678691311997973, 0.48394996352585284, 0.46507660315710386, 0.9358264668979426, 0.7236619282196818, 0.14481455471658566, 0.4369701699432651, 0.2883722104145233, 0.9868686577301626, 0.4153957063131808, 0.06787010302978236, 0.41121200146280434, 0.3213502806059353, 0.5995826470782478, 0.22607817522902984, 0....   \n",
       "\n",
       "   index_size                 distances         ids  \n",
       "0          25  [[114.96378, 121.50348]]   [[9, 21]]  \n",
       "1          25  [[121.56019, 123.57507]]   [[17, 7]]  \n",
       "2          25        [[0.0, 120.62366]]  [[10, 14]]  \n",
       "3          25  [[124.59711, 125.72464]]  [[13, 15]]  "
      ]
     },
     "execution_count": null,
     "metadata": {},
     "output_type": "execute_result"
    }
   ],
   "source": [
    "# | eval: false\n",
    "\n",
    "qems = ems[60]\n",
    "indexes = sorted(get_files(index_folder), key=lambda x: int(x.stem.split(\".\")[0]))\n",
    "qdf = pd.DataFrame(\n",
    "    {\n",
    "        \"index\": indexes,\n",
    "        \"embedding\": [qems] * len(indexes),\n",
    "    }\n",
    ")\n",
    "\n",
    "qdf = qdf.apply(lambda x: df_index_search(x, k=2, verbose=False), axis=1)\n",
    "qdf[:5]\n"
   ]
  },
  {
   "cell_type": "code",
   "execution_count": null,
   "metadata": {},
   "outputs": [
    {
     "name": "stdout",
     "output_type": "stream",
     "text": [
      "\n",
      "\n",
      "Final Results:\n",
      "\tDistances: [[  0.      114.96378]]\n",
      "\tIDs: [[60  9]]\n"
     ]
    }
   ],
   "source": [
    "# | eval: false\n",
    "\n",
    "res = index_heap(qdf, k=2, verbose=False)\n",
    "\n",
    "print(f'\\n\\nFinal Results:\\n\\tDistances: {res[\"distances\"]}\\n\\tIDs: {res[\"ids\"]}')\n"
   ]
  },
  {
   "cell_type": "code",
   "execution_count": null,
   "metadata": {},
   "outputs": [],
   "source": [
    "# | hide\n",
    "\n",
    "import nbdev\n",
    "\n",
    "nbdev.nbdev_export()"
   ]
  }
 ],
 "metadata": {
  "kernelspec": {
   "display_name": "python3",
   "language": "python",
   "name": "python3"
  }
 },
 "nbformat": 4,
 "nbformat_minor": 2
}
