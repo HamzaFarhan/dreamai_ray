{
 "cells": [
  {
   "attachments": {},
   "cell_type": "markdown",
   "metadata": {},
   "source": [
    "# Parallelizer\n",
    "\n",
    "> Classes and functions to parallelize execution."
   ]
  },
  {
   "cell_type": "code",
   "execution_count": null,
   "metadata": {},
   "outputs": [],
   "source": [
    "# | default_exp parallel.parallelizer\n"
   ]
  },
  {
   "cell_type": "code",
   "execution_count": null,
   "metadata": {},
   "outputs": [],
   "source": [
    "# | export\n",
    "\n",
    "from dreamai_ray.imports import *\n",
    "from dreamai_ray.utils import *\n",
    "from dreamai_ray.mapper import *\n",
    "from dreamai_ray.index.core import *\n",
    "from ray.util import ActorPool\n"
   ]
  },
  {
   "cell_type": "code",
   "execution_count": null,
   "metadata": {},
   "outputs": [],
   "source": [
    "#| hide\n",
    "\n",
    "%load_ext autoreload\n",
    "%autoreload 2\n",
    "%reload_ext autoreload"
   ]
  },
  {
   "cell_type": "code",
   "execution_count": null,
   "metadata": {},
   "outputs": [],
   "source": [
    "# | export\n",
    "\n",
    "\n",
    "class PoolActor:\n",
    "    def __init__(self, num_gpus=0.2, num_cpus=0.5) -> None:\n",
    "        self.num_gpus = num_gpus\n",
    "        self.num_cpus = num_cpus\n",
    "\n",
    "    def get_stats(self):\n",
    "        pass\n",
    "\n",
    "    def reset_stats(self):\n",
    "        pass\n",
    "\n",
    "    def action(self, data=None):\n",
    "        pass\n",
    "\n",
    "\n",
    "@ray.remote\n",
    "class DataParallelizer:\n",
    "    def __init__(\n",
    "        self,\n",
    "        actor: PoolActor,\n",
    "        iterator,\n",
    "        num_actors=2,\n",
    "        num_cpus=1,\n",
    "        num_gpus=0.2,\n",
    "        combiner=None,\n",
    "        set_actor_options=False,\n",
    "        verbose=True,\n",
    "    ) -> None:\n",
    "        if actor is None:\n",
    "            raise Exception(\"Actor not provided to Data Parallelizer.\")\n",
    "        if iterator is None:\n",
    "            raise Exception(\"Iterator not provided to Data Parallelizer.\")\n",
    "        if combiner is not None:\n",
    "            self.combiner = combiner\n",
    "        t1 = time()\n",
    "        msg.info(\n",
    "            f\"CONSTRUCTOR CALLED: NUM_CPUS={num_cpus}, NUM_ACTORS={num_actors}, NUM_GPUS={num_gpus}.\",\n",
    "            spaced=True,\n",
    "            show=verbose,\n",
    "        )\n",
    "        if set_actor_options:\n",
    "            msg.info(\n",
    "                f\"SETTING ACTOR OPTIONS for {num_actors} ACTORS: NUM_CPUS={num_cpus}, NUM_GPUS={num_gpus}.\",\n",
    "                spaced=True,\n",
    "                show=verbose,\n",
    "            )\n",
    "            self.actors_list = [\n",
    "                actor.options(num_gpus=num_gpus, num_cpus=num_cpus).remote(\n",
    "                    num_cpus=num_cpus, num_gpus=num_gpus\n",
    "                )\n",
    "                for _ in range(num_actors)\n",
    "            ]\n",
    "\n",
    "        else:\n",
    "            msg.info(\n",
    "                f\"ACTOR PARAMS WITHOUT OPTIONS for {num_actors} ACTORS: NUM_CPUS={num_cpus}, NUM_GPUS={num_gpus}.\",\n",
    "                spaced=True,\n",
    "                show=verbose,\n",
    "            )\n",
    "            self.actors_list = [\n",
    "                actor.remote(num_cpus=num_cpus, num_gpus=num_gpus)\n",
    "                for _ in range(num_actors)\n",
    "            ]\n",
    "        self.pool = ActorPool(self.actors_list)\n",
    "        t2 = time()\n",
    "        msg.good(\n",
    "            f\"ACTOR POOL CREATED in {t2-t1:.2f} seconds.\", spaced=True, show=verbose\n",
    "        )\n",
    "        self.iterator = iterator\n",
    "        self.verbose = verbose\n",
    "        self.num_actors = num_actors\n",
    "\n",
    "    def do_parallel(self, data_dict=None):\n",
    "        try:\n",
    "            data_dict[\"num_blocks\"] = self.num_actors\n",
    "            data_list = self.iterator(**data_dict)\n",
    "            if data_list is None:\n",
    "                raise Exception(\"Unable to get iterator.\")\n",
    "        except Exception as e:\n",
    "            raise Exception(f\"Get iterator failed with error {e}.\")\n",
    "        t1 = time()\n",
    "        pool = self.pool\n",
    "        data_list_out = list(\n",
    "            pool.map(lambda processor, item: processor.action.remote(item), data_list)\n",
    "        )\n",
    "        t2 = time()\n",
    "        msg.info(\n",
    "            f\"Time elapsed processing data = {t2-t1:.2f}.\",\n",
    "            spaced=True,\n",
    "            show=self.verbose,\n",
    "        )\n",
    "        msg.info(\n",
    "            f\"Final data length = {len(data_list_out)}.\", spaced=True, show=self.verbose\n",
    "        )\n",
    "        t1 = time()\n",
    "        ret = self.combiner(data_list_out, data_dict)\n",
    "        t2 = time()\n",
    "        msg.info(\n",
    "            f\"Time elapsed combining data = {t2-t1:.2f}.\",\n",
    "            spaced=True,\n",
    "            show=self.verbose,\n",
    "        )\n",
    "        return {\"result\": ret}\n",
    "\n",
    "\n",
    "@ray.remote\n",
    "class IndexCreatorPoolActor(PoolActor):\n",
    "    def action(self, data):\n",
    "        return create_index_(data)\n",
    "\n",
    "\n",
    "@ray.remote\n",
    "class SearchIndexPoolActor(PoolActor):\n",
    "    def action(self, data):\n",
    "        return search_index_(data)\n"
   ]
  },
  {
   "cell_type": "code",
   "execution_count": null,
   "metadata": {},
   "outputs": [
    {
     "name": "stderr",
     "output_type": "stream",
     "text": [
      "2023-06-25 19:58:24,513\tINFO worker.py:1627 -- Started a local Ray instance. View the dashboard at \u001b[1m\u001b[32m127.0.0.1:8265 \u001b[39m\u001b[22m\n"
     ]
    },
    {
     "data": {
      "text/html": [
       "<div>\n",
       "    <div style=\"margin-left: 50px;display: flex;flex-direction: row;align-items: center\">\n",
       "        <h3 style=\"color: var(--jp-ui-font-color0)\">Ray</h3>\n",
       "        <svg version=\"1.1\" id=\"ray\" width=\"3em\" viewBox=\"0 0 144.5 144.6\" style=\"margin-left: 3em;margin-right: 3em\">\n",
       "            <g id=\"layer-1\">\n",
       "                <path fill=\"#00a2e9\" class=\"st0\" d=\"M97.3,77.2c-3.8-1.1-6.2,0.9-8.3,5.1c-3.5,6.8-9.9,9.9-17.4,9.6S58,88.1,54.8,81.2c-1.4-3-3-4-6.3-4.1\n",
       "                    c-5.6-0.1-9.9,0.1-13.1,6.4c-3.8,7.6-13.6,10.2-21.8,7.6C5.2,88.4-0.4,80.5,0,71.7c0.1-8.4,5.7-15.8,13.8-18.2\n",
       "                    c8.4-2.6,17.5,0.7,22.3,8c1.3,1.9,1.3,5.2,3.6,5.6c3.9,0.6,8,0.2,12,0.2c1.8,0,1.9-1.6,2.4-2.8c3.5-7.8,9.7-11.8,18-11.9\n",
       "                    c8.2-0.1,14.4,3.9,17.8,11.4c1.3,2.8,2.9,3.6,5.7,3.3c1-0.1,2,0.1,3,0c2.8-0.5,6.4,1.7,8.1-2.7s-2.3-5.5-4.1-7.5\n",
       "                    c-5.1-5.7-10.9-10.8-16.1-16.3C84,38,81.9,37.1,78,38.3C66.7,42,56.2,35.7,53,24.1C50.3,14,57.3,2.8,67.7,0.5\n",
       "                    C78.4-2,89,4.7,91.5,15.3c0.1,0.3,0.1,0.5,0.2,0.8c0.7,3.4,0.7,6.9-0.8,9.8c-1.7,3.2-0.8,5,1.5,7.2c6.7,6.5,13.3,13,19.8,19.7\n",
       "                    c1.8,1.8,3,2.1,5.5,1.2c9.1-3.4,17.9-0.6,23.4,7c4.8,6.9,4.6,16.1-0.4,22.9c-5.4,7.2-14.2,9.9-23.1,6.5c-2.3-0.9-3.5-0.6-5.1,1.1\n",
       "                    c-6.7,6.9-13.6,13.7-20.5,20.4c-1.8,1.8-2.5,3.2-1.4,5.9c3.5,8.7,0.3,18.6-7.7,23.6c-7.9,5-18.2,3.8-24.8-2.9\n",
       "                    c-6.4-6.4-7.4-16.2-2.5-24.3c4.9-7.8,14.5-11,23.1-7.8c3,1.1,4.7,0.5,6.9-1.7C91.7,98.4,98,92.3,104.2,86c1.6-1.6,4.1-2.7,2.6-6.2\n",
       "                    c-1.4-3.3-3.8-2.5-6.2-2.6C99.8,77.2,98.9,77.2,97.3,77.2z M72.1,29.7c5.5,0.1,9.9-4.3,10-9.8c0-0.1,0-0.2,0-0.3\n",
       "                    C81.8,14,77,9.8,71.5,10.2c-5,0.3-9,4.2-9.3,9.2c-0.2,5.5,4,10.1,9.5,10.3C71.8,29.7,72,29.7,72.1,29.7z M72.3,62.3\n",
       "                    c-5.4-0.1-9.9,4.2-10.1,9.7c0,0.2,0,0.3,0,0.5c0.2,5.4,4.5,9.7,9.9,10c5.1,0.1,9.9-4.7,10.1-9.8c0.2-5.5-4-10-9.5-10.3\n",
       "                    C72.6,62.3,72.4,62.3,72.3,62.3z M115,72.5c0.1,5.4,4.5,9.7,9.8,9.9c5.6-0.2,10-4.8,10-10.4c-0.2-5.4-4.6-9.7-10-9.7\n",
       "                    c-5.3-0.1-9.8,4.2-9.9,9.5C115,72.1,115,72.3,115,72.5z M19.5,62.3c-5.4,0.1-9.8,4.4-10,9.8c-0.1,5.1,5.2,10.4,10.2,10.3\n",
       "                    c5.6-0.2,10-4.9,9.8-10.5c-0.1-5.4-4.5-9.7-9.9-9.6C19.6,62.3,19.5,62.3,19.5,62.3z M71.8,134.6c5.9,0.2,10.3-3.9,10.4-9.6\n",
       "                    c0.5-5.5-3.6-10.4-9.1-10.8c-5.5-0.5-10.4,3.6-10.8,9.1c0,0.5,0,0.9,0,1.4c-0.2,5.3,4,9.8,9.3,10\n",
       "                    C71.6,134.6,71.7,134.6,71.8,134.6z\"/>\n",
       "            </g>\n",
       "        </svg>\n",
       "        <table>\n",
       "            <tr>\n",
       "                <td style=\"text-align: left\"><b>Python version:</b></td>\n",
       "                <td style=\"text-align: left\"><b>3.10.11</b></td>\n",
       "            </tr>\n",
       "            <tr>\n",
       "                <td style=\"text-align: left\"><b>Ray version:</b></td>\n",
       "                <td style=\"text-align: left\"><b> 2.5.1</b></td>\n",
       "            </tr>\n",
       "            <tr>\n",
       "    <td style=\"text-align: left\"><b>Dashboard:</b></td>\n",
       "    <td style=\"text-align: left\"><b><a href=\"http://127.0.0.1:8265\" target=\"_blank\">http://127.0.0.1:8265</a></b></td>\n",
       "</tr>\n",
       "\n",
       "        </table>\n",
       "    </div>\n",
       "</div>\n"
      ],
      "text/plain": [
       "RayContext(dashboard_url='127.0.0.1:8265', python_version='3.10.11', ray_version='2.5.1', ray_commit='a03efd9931128d387649dd48b0e4864b43d3bfb4', address_info={'node_ip_address': '192.168.18.24', 'raylet_ip_address': '192.168.18.24', 'redis_address': None, 'object_store_address': '/tmp/ray/session_2023-06-25_19-58-22_771068_873787/sockets/plasma_store', 'raylet_socket_name': '/tmp/ray/session_2023-06-25_19-58-22_771068_873787/sockets/raylet', 'webui_url': '127.0.0.1:8265', 'session_dir': '/tmp/ray/session_2023-06-25_19-58-22_771068_873787', 'metrics_export_port': 61771, 'gcs_address': '192.168.18.24:55675', 'address': '192.168.18.24:55675', 'dashboard_agent_listen_port': 52365, 'node_id': '7005ba522454a961e6fdb6616e2b3e04c29e89c81cf7b2bb28da79dd'})"
      ]
     },
     "execution_count": null,
     "metadata": {},
     "output_type": "execute_result"
    }
   ],
   "source": [
    "# | hide\n",
    "# | eval: false\n",
    "\n",
    "\n",
    "if ray.is_initialized():\n",
    "    ray.shutdown()\n",
    "ray.init()"
   ]
  },
  {
   "cell_type": "code",
   "execution_count": null,
   "metadata": {},
   "outputs": [],
   "source": [
    "# | hide\n",
    "# | eval: false\n",
    "\n",
    "\n",
    "bucket = \"gs://gcsfuse-talentnet-dev\"\n",
    "\n",
    "ems_folder = f\"{bucket}/ems_1\"\n",
    "index_folder = f\"{bucket}/indexes_1\"\n",
    "ems_dim = 768"
   ]
  },
  {
   "cell_type": "code",
   "execution_count": null,
   "metadata": {},
   "outputs": [
    {
     "name": "stdout",
     "output_type": "stream",
     "text": [
      "\n",
      "\u001b[38;5;4mℹ Deleting gs://gcsfuse-talentnet-dev/indexes_1.\u001b[0m\n",
      "\n"
     ]
    },
    {
     "name": "stderr",
     "output_type": "stream",
     "text": [
      "Removing gs://gcsfuse-talentnet-dev/indexes_1/1.csv#1687705078056994...\n",
      "Removing gs://gcsfuse-talentnet-dev/indexes_1/1_8.faiss#1687705078239592...\n",
      "Removing gs://gcsfuse-talentnet-dev/indexes_1/2.csv#1687705078085950...\n",
      "Removing gs://gcsfuse-talentnet-dev/indexes_1/2_8.faiss#1687705078252399...\n",
      "/ [4/4 objects] 100% Done                                                       \n",
      "Operation completed over 4 objects.                                              \n"
     ]
    }
   ],
   "source": [
    "# | hide\n",
    "# | eval: false\n",
    "\n",
    "bucket_del(index_folder)"
   ]
  },
  {
   "cell_type": "code",
   "execution_count": null,
   "metadata": {},
   "outputs": [],
   "source": [
    "# | hide\n",
    "# | eval: false\n",
    "\n",
    "\n",
    "index_pool_mapper = DataParallelizer.remote(\n",
    "    IndexCreatorPoolActor,\n",
    "    create_indexes_iter,\n",
    "    num_actors=2,\n",
    "    num_cpus=1,\n",
    "    num_gpus=0,\n",
    "    combiner=create_indexes_combine,\n",
    "    verbose=True,\n",
    ")"
   ]
  },
  {
   "cell_type": "code",
   "execution_count": null,
   "metadata": {},
   "outputs": [],
   "source": [
    "# | hide\n",
    "# | eval: false\n",
    "\n",
    "search_index_mapper = DataParallelizer.remote(\n",
    "    SearchIndexPoolActor,\n",
    "    search_indexes_iter,\n",
    "    num_actors=2,\n",
    "    num_cpus=1,\n",
    "    num_gpus=0,\n",
    "    combiner=search_indexes_combine,\n",
    "    verbose=True,\n",
    ")\n"
   ]
  },
  {
   "cell_type": "code",
   "execution_count": null,
   "metadata": {},
   "outputs": [
    {
     "name": "stdout",
     "output_type": "stream",
     "text": [
      "\u001b[2m\u001b[36m(DataParallelizer pid=878723)\u001b[0m \n",
      "\u001b[2m\u001b[36m(DataParallelizer pid=878723)\u001b[0m \u001b[38;5;4mℹ CONSTRUCTOR CALLED: NUM_CPUS=1, NUM_ACTORS=2, NUM_GPUS=0.\u001b[0m\n",
      "\u001b[2m\u001b[36m(DataParallelizer pid=878723)\u001b[0m \n",
      "\u001b[2m\u001b[36m(DataParallelizer pid=878723)\u001b[0m \n",
      "\u001b[2m\u001b[36m(DataParallelizer pid=878723)\u001b[0m \u001b[38;5;4mℹ ACTOR PARAMS WITHOUT OPTIONS for 2 ACTORS: NUM_CPUS=1,\n",
      "\u001b[2m\u001b[36m(DataParallelizer pid=878723)\u001b[0m NUM_GPUS=0.\u001b[0m\n",
      "\u001b[2m\u001b[36m(DataParallelizer pid=878723)\u001b[0m \n",
      "\u001b[2m\u001b[36m(DataParallelizer pid=878723)\u001b[0m \n",
      "\u001b[2m\u001b[36m(DataParallelizer pid=878723)\u001b[0m \u001b[38;5;2m✔ ACTOR POOL CREATED in 0.01 seconds.\u001b[0m\n",
      "\u001b[2m\u001b[36m(DataParallelizer pid=878723)\u001b[0m \n",
      "\u001b[2m\u001b[36m(DataParallelizer pid=878723)\u001b[0m \n",
      "\u001b[2m\u001b[36m(DataParallelizer pid=878723)\u001b[0m \u001b[38;5;4mℹ Downloading gs://gcsfuse-talentnet-dev/ems_1 to\n",
      "\u001b[2m\u001b[36m(DataParallelizer pid=878723)\u001b[0m /tmp/2d07f627258847a4/ems_1.\u001b[0m\n",
      "\u001b[2m\u001b[36m(DataParallelizer pid=878723)\u001b[0m \n"
     ]
    },
    {
     "name": "stderr",
     "output_type": "stream",
     "text": [
      "\u001b[2m\u001b[36m(DataParallelizer pid=878723)\u001b[0m Copying gs://gcsfuse-talentnet-dev/ems_1/resumes-4e2cdbeb-1e20-45ff-bded-a0a510350167_1.json...\n",
      "Copying gs://gcsfuse-talentnet-dev/ems_1/resumes-4e2cdbeb-1e20-45ff-bded-a0a510350167_10.json...                           \n",
      "Copying gs://gcsfuse-talentnet-dev/ems_1/resumes-4e2cdbeb-1e20-45ff-bded-a0a510350167_11.json...                           \n",
      "Copying gs://gcsfuse-talentnet-dev/ems_1/resumes-4e2cdbeb-1e20-45ff-bded-a0a510350167_12.json...                           \n",
      "Copying gs://gcsfuse-talentnet-dev/ems_1/resumes-4e2cdbeb-1e20-45ff-bded-a0a510350167_13.json...                           \n",
      "\u001b[2m\u001b[36m(DataParallelizer pid=878723)\u001b[0m / [0/16 files][    0.0 B/267.4 KiB]   0% Done                                   \n",
      "\u001b[2m\u001b[36m(DataParallelizer pid=878723)\u001b[0m Copying gs://gcsfuse-talentnet-dev/ems_1/resumes-4e2cdbeb-1e20-45ff-bded-a0a510350167_15.json...\n",
      "Copying gs://gcsfuse-talentnet-dev/ems_1/resumes-4e2cdbeb-1e20-45ff-bded-a0a510350167_16.json...                           \n",
      "Copying gs://gcsfuse-talentnet-dev/ems_1/resumes-4e2cdbeb-1e20-45ff-bded-a0a510350167_2.json...                            \n",
      "Copying gs://gcsfuse-talentnet-dev/ems_1/resumes-4e2cdbeb-1e20-45ff-bded-a0a510350167_14.json...                           \n",
      "Copying gs://gcsfuse-talentnet-dev/ems_1/resumes-4e2cdbeb-1e20-45ff-bded-a0a510350167_3.json...                            \n",
      "Copying gs://gcsfuse-talentnet-dev/ems_1/resumes-4e2cdbeb-1e20-45ff-bded-a0a510350167_6.json...                            \n",
      "Copying gs://gcsfuse-talentnet-dev/ems_1/resumes-4e2cdbeb-1e20-45ff-bded-a0a510350167_5.json...                            \n",
      "\u001b[2m\u001b[36m(DataParallelizer pid=878723)\u001b[0m Copying gs://gcsfuse-talentnet-dev/ems_1/resumes-4e2cdbeb-1e20-45ff-bded-a0a510350167_4.json...\n",
      "Copying gs://gcsfuse-talentnet-dev/ems_1/resumes-4e2cdbeb-1e20-45ff-bded-a0a510350167_8.json...                            \n",
      "Copying gs://gcsfuse-talentnet-dev/ems_1/resumes-4e2cdbeb-1e20-45ff-bded-a0a510350167_7.json...                            \n",
      "\u001b[2m\u001b[36m(DataParallelizer pid=878723)\u001b[0m / [0/16 files][    0.0 B/267.4 KiB]   0% Done                                   \n",
      "\u001b[2m\u001b[36m(DataParallelizer pid=878723)\u001b[0m Copying gs://gcsfuse-talentnet-dev/ems_1/resumes-4e2cdbeb-1e20-45ff-bded-a0a510350167_9.json...\n",
      "- [2/16 files][ 33.5 KiB/267.4 KiB]  12% Done                                    0% Done                                   \n",
      "- [4/16 files][ 66.9 KiB/267.4 KiB]  25% Done                                   18% Done                                   \n",
      "- [8/16 files][133.8 KiB/267.4 KiB]  50% Done                                   31% Done                                   \n",
      "- [16/16 files][267.4 KiB/267.4 KiB] 100% Done                                  56% Done                                   \n",
      "\u001b[2m\u001b[36m(DataParallelizer pid=878723)\u001b[0m Operation completed over 16 objects/267.4 KiB.                                   \n"
     ]
    },
    {
     "name": "stdout",
     "output_type": "stream",
     "text": [
      "\u001b[2m\u001b[36m(DataParallelizer pid=878723)\u001b[0m \u001b[38;5;4mℹ Embeddings download time: 10.51 seconds.\u001b[0m\n",
      "\u001b[2m\u001b[36m(DataParallelizer pid=878723)\u001b[0m \u001b[38;5;4mℹ Embeddings DF created of length: 16\u001b[0m\n",
      "\u001b[2m\u001b[36m(DataParallelizer pid=878723)\u001b[0m \u001b[32m [repeated 11x across cluster] (Ray deduplicates logs by default. Set RAY_DEDUP_LOGS=0 to disable log deduplication, or see https://docs.ray.io/en/master/ray-observability/ray-logging.html#log-deduplication for more options.)\u001b[0m\n",
      "\u001b[2m\u001b[36m(DataParallelizer pid=878724)\u001b[0m \n",
      "\u001b[2m\u001b[36m(DataParallelizer pid=878724)\u001b[0m \n",
      "\u001b[2m\u001b[36m(DataParallelizer pid=878724)\u001b[0m \n"
     ]
    },
    {
     "name": "stderr",
     "output_type": "stream",
     "text": [
      "\u001b[2m\u001b[36m(DataParallelizer pid=878723)\u001b[0m CommandException: One or more URLs matched no objects.\n"
     ]
    },
    {
     "name": "stdout",
     "output_type": "stream",
     "text": [
      "\u001b[2m\u001b[36m(DataParallelizer pid=878723)\u001b[0m \u001b[38;5;4mℹ Bucket Size: 0\u001b[0m\n",
      "\u001b[2m\u001b[36m(DataParallelizer pid=878723)\u001b[0m \u001b[38;5;4mℹ Block Size: 8\u001b[0m\n",
      "\u001b[2m\u001b[36m(DataParallelizer pid=878723)\u001b[0m \u001b[38;5;4mℹ Block Counter: 0\u001b[0m\n",
      "\u001b[2m\u001b[36m(DataParallelizer pid=878723)\u001b[0m \u001b[38;5;4mℹ Setup time: 11.76 seconds.\u001b[0m\n",
      "\u001b[2m\u001b[36m(DataParallelizer pid=878723)\u001b[0m \u001b[38;5;4mℹ Time elapsed processing data = 11.77.\u001b[0m\n",
      "\u001b[2m\u001b[36m(DataParallelizer pid=878723)\u001b[0m \u001b[38;5;4mℹ Final data length = 2.\u001b[0m\n",
      "\u001b[2m\u001b[36m(DataParallelizer pid=878723)\u001b[0m \u001b[38;5;4mℹ Uploading /tmp/2d07f627258847a4/indexes_1 to\n",
      "\u001b[2m\u001b[36m(IndexCreatorPoolActor pid=878850)\u001b[0m \u001b[38;5;4mℹ DF BATCH SIZE: 8\u001b[0m\n"
     ]
    },
    {
     "name": "stderr",
     "output_type": "stream",
     "text": [
      "\u001b[2m\u001b[36m(DataParallelizer pid=878723)\u001b[0m Copying file:///tmp/2d07f627258847a4/indexes_1/2_8.faiss [Content-Type=application/octet-stream]...\n",
      "Copying file:///tmp/2d07f627258847a4/indexes_1/1_8.faiss [Content-Type=application/octet-stream]...                        \n",
      "Copying file:///tmp/2d07f627258847a4/indexes_1/1.csv [Content-Type=text/csv]... 0% Done                                    \n",
      "\u001b[2m\u001b[36m(DataParallelizer pid=878723)\u001b[0m Copying file:///tmp/2d07f627258847a4/indexes_1/2.csv [Content-Type=text/csv]...\n",
      "/ [0/4 files][    0.0 B/ 49.4 KiB]   0% Done                                    0% Done                                    \n",
      "\u001b[2m\u001b[36m(DataParallelizer pid=878723)\u001b[0m / [1/4 files][ 49.4 KiB/ 49.4 KiB]  99% Done                                    \n",
      "\u001b[2m\u001b[36m(DataParallelizer pid=878723)\u001b[0m / [2/4 files][ 49.4 KiB/ 49.4 KiB]  99% Done                                    \n",
      "- [4/4 files][ 49.4 KiB/ 49.4 KiB] 100% Done                                    9% Done                                    \n",
      "\u001b[2m\u001b[36m(DataParallelizer pid=878723)\u001b[0m Operation completed over 4 objects/49.4 KiB.                                     \n"
     ]
    },
    {
     "name": "stdout",
     "output_type": "stream",
     "text": [
      "\u001b[2m\u001b[36m(DataParallelizer pid=878723)\u001b[0m \u001b[38;5;4mℹ Uploading /tmp/2d07f627258847a4/indexes_1 to\n"
     ]
    },
    {
     "name": "stderr",
     "output_type": "stream",
     "text": [
      "\u001b[2m\u001b[36m(DataParallelizer pid=878723)\u001b[0m CommandException: No URLs matched: /tmp/2d07f627258847a4/indexes_1/*\n",
      "\u001b[2m\u001b[36m(DataParallelizer pid=878723)\u001b[0m CommandException: 1 file/object could not be transferred.\n"
     ]
    },
    {
     "name": "stdout",
     "output_type": "stream",
     "text": [
      "\n",
      "\u001b[38;5;2m✔ Total Time Elapsed = 18.73.\u001b[0m\n",
      "\n"
     ]
    }
   ],
   "source": [
    "# | hide\n",
    "# | eval: false\n",
    "\n",
    "data_dict = dict(\n",
    "    ems_folder=ems_folder, index_folder=index_folder, index_dim=ems_dim, verbose=True\n",
    ")\n",
    "t1 = time()\n",
    "res = ray.get(index_pool_mapper.do_parallel.remote(data_dict=data_dict))\n",
    "t2 = time()\n",
    "msg.good(f\"Total Time Elapsed = {t2-t1:.2f}.\", spaced=True, show=True)"
   ]
  },
  {
   "cell_type": "code",
   "execution_count": null,
   "metadata": {},
   "outputs": [
    {
     "name": "stdout",
     "output_type": "stream",
     "text": [
      "\u001b[2m\u001b[36m(DataParallelizer pid=878723)\u001b[0m \u001b[38;5;4mℹ Time elapsed combining data = 2.83.\u001b[0m\n",
      "\u001b[2m\u001b[36m(DataParallelizer pid=878724)\u001b[0m \u001b[38;5;4mℹ Cached Index Folder:\n",
      "\u001b[2m\u001b[36m(DataParallelizer pid=878724)\u001b[0m \u001b[38;5;4mℹ Downloading\n",
      "\u001b[2m\u001b[36m(DataParallelizer pid=878724)\u001b[0m to /tmp/732ba9ce3e064e24.\u001b[0m\n"
     ]
    },
    {
     "name": "stderr",
     "output_type": "stream",
     "text": [
      "\u001b[2m\u001b[36m(DataParallelizer pid=878724)\u001b[0m Copying gs://gcsfuse-talentnet-dev/ems_1/resumes-4e2cdbeb-1e20-45ff-bded-a0a510350167_10.json...\n",
      "\u001b[2m\u001b[36m(DataParallelizer pid=878724)\u001b[0m / [0/1 files][    0.0 B/ 16.7 KiB]   0% Done                                    \n"
     ]
    },
    {
     "name": "stdout",
     "output_type": "stream",
     "text": [
      "\n",
      "\u001b[38;5;2m✔ Total Time Elapsed = 2.01.\u001b[0m\n",
      "\n",
      "\n",
      "\n",
      "Final Results:\n",
      "\tDistances: [[0.0, 0.9240111708641052, 1.0372934341430664, 1.101623296737671, 1.1049132347106934]]\n",
      "\tIDs: [[9, 11, 8, 13, 14]]\n",
      "\tMeta Data:\n",
      "\t\t{'embedding': '/tmp/e324b71dd9114694/ems_1_1/resumes-4e2cdbeb-1e20-45ff-bded-a0a510350167_10.json'}\n",
      "\t\t{'embedding': '/tmp/e324b71dd9114694/ems_1_1/resumes-4e2cdbeb-1e20-45ff-bded-a0a510350167_12.json'}\n",
      "\t\t{'embedding': '/tmp/e324b71dd9114694/ems_1_1/resumes-4e2cdbeb-1e20-45ff-bded-a0a510350167_9.json'}\n",
      "\t\t{'embedding': '/tmp/e324b71dd9114694/ems_1_1/resumes-4e2cdbeb-1e20-45ff-bded-a0a510350167_14.json'}\n",
      "\t\t{'embedding': '/tmp/e324b71dd9114694/ems_1_1/resumes-4e2cdbeb-1e20-45ff-bded-a0a510350167_15.json'}\n"
     ]
    },
    {
     "name": "stderr",
     "output_type": "stream",
     "text": [
      "\u001b[2m\u001b[36m(DataParallelizer pid=878724)\u001b[0m Operation completed over 1 objects/16.7 KiB.                                     \n"
     ]
    }
   ],
   "source": [
    "# | hide\n",
    "# | eval: false\n",
    "\n",
    "\n",
    "qems = f\"{ems_folder}/resumes-4e2cdbeb-1e20-45ff-bded-a0a510350167_10.json\"\n",
    "data_dict = dict(ems=qems, index_folder=index_folder, k=5, verbose=True)\n",
    "t1 = time()\n",
    "res = ray.get(search_index_mapper.do_parallel.remote(data_dict=data_dict))\n",
    "t2 = time()\n",
    "msg.good(f\"Total Time Elapsed = {t2-t1:.2f}.\", spaced=True, show=True)\n",
    "\n",
    "res = res['result']\n",
    "print(f'\\n\\nFinal Results:\\n\\tDistances: {res[\"distances\"]}\\n\\tIDs: {res[\"ids\"]}')\n",
    "print(\"\\tMeta Data:\")\n",
    "for m in res[\"meta_data\"]:\n",
    "    print(f\"\\t\\t{m}\")\n"
   ]
  },
  {
   "cell_type": "code",
   "execution_count": null,
   "metadata": {},
   "outputs": [],
   "source": [
    "# # | hide\n",
    "# # | eval: false\n",
    "\n",
    "\n",
    "# qems = f\"{ems_folder}/resumes-4e2cdbeb-1e20-45ff-bded-a0a510350167_10.json\"\n",
    "# data_dict = dict(ems=qems, index_folder=index_folder, k=5, verbose=True)\n",
    "# search_iter = search_indexes_iter(data_dict=data_dict)\n",
    "# res = [search_index_(d) for d in search_iter]\n",
    "# res = combine_searches(res, data_dict)\n",
    "\n",
    "# print(f'\\n\\nFinal Results:\\n\\tDistances: {res[\"distances\"]}\\n\\tIDs: {res[\"ids\"]}')\n",
    "# print(\"\\tMeta Data:\")\n",
    "# for m in res[\"meta_data\"]:\n",
    "#     print(f\"\\t\\t{m}\")\n"
   ]
  },
  {
   "cell_type": "code",
   "execution_count": null,
   "metadata": {},
   "outputs": [],
   "source": [
    "# # | hide\n",
    "# # | eval: false\n",
    "\n",
    "# bucket = \"gs://gcsfuse-talentnet-dev\"\n",
    "\n",
    "# ems_folder = f\"{bucket}/ems_1\"\n",
    "# index_folder = f\"{bucket}/indexes_1\"\n",
    "# ems_dim = 768\n",
    "\n",
    "# bucket_del(index_folder)\n",
    "\n",
    "# data_dict = dict(\n",
    "#     ems_folder=ems_folder,\n",
    "#     index_folder=index_folder,\n",
    "#     index_dim=ems_dim,\n",
    "#     num_actors=4,\n",
    "#     verbose=True,\n",
    "# )\n",
    "\n",
    "# t1 = time()\n",
    "\n",
    "# indexes_iter = create_indexes_iter(data_dict=data_dict)\n",
    "# res = [create_index_(d) for d in indexes_iter]\n",
    "# indexes_up(res)\n",
    "\n",
    "# t2 = time()\n",
    "# msg.good(f\"Total Time Elapsed = {t2-t1:.2f}.\", spaced=True, show=True)\n"
   ]
  },
  {
   "cell_type": "code",
   "execution_count": null,
   "metadata": {},
   "outputs": [
    {
     "name": "stdout",
     "output_type": "stream",
     "text": [
      "\u001b[2m\u001b[36m(DataParallelizer pid=878724)\u001b[0m \u001b[38;5;4mℹ Adding Result: [[0.        0.9240112 1.0372934 1.1016233 1.1049132]],\n",
      "\u001b[2m\u001b[36m(DataParallelizer pid=878724)\u001b[0m [[ 9 11  8 13 14]]\u001b[0m\n",
      "\u001b[2m\u001b[36m(DataParallelizer pid=878724)\u001b[0m \u001b[38;5;2m✔ Added Result: [[0.        0.9240112 1.0372934 1.1016233 1.1049132]],\n",
      "\u001b[2m\u001b[36m(DataParallelizer pid=878724)\u001b[0m [[ 9 11  8 13 14]]\u001b[0m\n",
      "\u001b[2m\u001b[36m(DataParallelizer pid=878724)\u001b[0m \u001b[32m [repeated 36x across cluster]\u001b[0m\n",
      "\u001b[2m\u001b[36m(SearchIndexPoolActor pid=878948)\u001b[0m \u001b[38;5;4mℹ Index Col:\n",
      "\u001b[2m\u001b[36m(SearchIndexPoolActor pid=878948)\u001b[0m \u001b[38;5;4mℹ Index Size: 16\u001b[0m\n",
      "\u001b[2m\u001b[36m(SearchIndexPoolActor pid=878948)\u001b[0m \u001b[38;5;4mℹ Ems Shape: (1, 768)\u001b[0m\n",
      "\u001b[2m\u001b[36m(SearchIndexPoolActor pid=878948)\u001b[0m \u001b[38;5;2m✔ IDs: [[ 9 11  8 13 14]], Distances: [[0.        0.9240112 1.0372934\n"
     ]
    }
   ],
   "source": [
    "# | hide\n",
    "\n",
    "import nbdev\n",
    "\n",
    "nbdev.nbdev_export()"
   ]
  }
 ],
 "metadata": {
  "kernelspec": {
   "display_name": "python3",
   "language": "python",
   "name": "python3"
  }
 },
 "nbformat": 4,
 "nbformat_minor": 2
}
