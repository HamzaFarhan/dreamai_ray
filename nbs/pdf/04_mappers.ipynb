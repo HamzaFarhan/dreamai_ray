{
 "cells": [
  {
   "attachments": {},
   "cell_type": "markdown",
   "metadata": {},
   "source": [
    "# Mappers\n",
    "\n",
    "> Mapper classes for PDF information extraction."
   ]
  },
  {
   "cell_type": "code",
   "execution_count": null,
   "metadata": {},
   "outputs": [],
   "source": [
    "# | default_exp pdf.mappers"
   ]
  },
  {
   "cell_type": "code",
   "execution_count": null,
   "metadata": {},
   "outputs": [],
   "source": [
    "# | export\n",
    "\n",
    "from dreamai_ray.imports import *\n",
    "from dreamai_ray.utils import *\n",
    "from dreamai_ray.mapper import *\n",
    "from dreamai_ray.pdf.extract import *\n",
    "from dreamai_ray.pdf.df import *\n"
   ]
  },
  {
   "cell_type": "code",
   "execution_count": null,
   "metadata": {},
   "outputs": [],
   "source": [
    "#| hide\n",
    "\n",
    "%load_ext autoreload\n",
    "%autoreload 2\n",
    "%reload_ext autoreload"
   ]
  },
  {
   "cell_type": "code",
   "execution_count": null,
   "metadata": {},
   "outputs": [],
   "source": [
    "# | export\n",
    "\n",
    "\n",
    "class SegsMapper(Mapper):\n",
    "    \"\"\"\n",
    "    A custom mapper for PDF segmentation. It uses the `df_segs` function to extract the segments from the PDF.\n",
    "    \"\"\"\n",
    "\n",
    "    def __init__(\n",
    "        self,\n",
    "        segs_model=\"HamzaFarhan/PDFSegs\",  # The name of the model to use for segmentation.\n",
    "        udf=df_segs,  # The function to use for extracting the segments.\n",
    "        udf_kwargs=dict(  # The keyword arguments to pass to the `udf`.\n",
    "            thresh=0.6,\n",
    "            classes=[\"Work Experience\", \"Education\", \"Certifications\", \"Other\"],\n",
    "            other_class=\"Other\",\n",
    "        ),\n",
    "        **kwargs,\n",
    "    ):\n",
    "        segs_model = load_segs_model(segs_model, device=default_device())\n",
    "        udf_kwargs[\"segs_model\"] = segs_model\n",
    "        super().__init__(**locals_to_params(locals()))\n"
   ]
  },
  {
   "attachments": {},
   "cell_type": "markdown",
   "metadata": {},
   "source": [
    "## Usage Example"
   ]
  },
  {
   "cell_type": "code",
   "execution_count": null,
   "metadata": {},
   "outputs": [
    {
     "name": "stdout",
     "output_type": "stream",
     "text": [
      "\n",
      "\u001b[38;5;4mℹ DF BATCH SIZE: 2\u001b[0m\n",
      "\n"
     ]
    },
    {
     "data": {
      "text/html": [
       "<div>\n",
       "<style scoped>\n",
       "    .dataframe tbody tr th:only-of-type {\n",
       "        vertical-align: middle;\n",
       "    }\n",
       "\n",
       "    .dataframe tbody tr th {\n",
       "        vertical-align: top;\n",
       "    }\n",
       "\n",
       "    .dataframe thead th {\n",
       "        text-align: right;\n",
       "    }\n",
       "</style>\n",
       "<table border=\"1\" class=\"dataframe\">\n",
       "  <thead>\n",
       "    <tr style=\"text-align: right;\">\n",
       "      <th></th>\n",
       "      <th>text</th>\n",
       "      <th>segs</th>\n",
       "      <th>preds</th>\n",
       "      <th>probs</th>\n",
       "    </tr>\n",
       "  </thead>\n",
       "  <tbody>\n",
       "    <tr>\n",
       "      <th>0</th>\n",
       "      <td>[I worked at Google, I studied at Harvard, I a have a google cloud certification]</td>\n",
       "      <td>{'Work Experience': ['I worked at Google'], 'Education': ['I studied at Harvard'], 'Certifications': ['I a have a google cloud certification'], 'Other': []}</td>\n",
       "      <td>[Work Experience, Education, Certifications]</td>\n",
       "      <td>[0.98256487, 0.98468, 0.9786084]</td>\n",
       "    </tr>\n",
       "    <tr>\n",
       "      <th>1</th>\n",
       "      <td>[I worked at Facebook, I studied at MIT,  I have a salesforce certification]</td>\n",
       "      <td>{'Work Experience': ['I worked at Facebook'], 'Education': ['I studied at MIT'], 'Certifications': [' I have a salesforce certification'], 'Other': []}</td>\n",
       "      <td>[Work Experience, Education, Certifications]</td>\n",
       "      <td>[0.9836285, 0.98444146, 0.9522135]</td>\n",
       "    </tr>\n",
       "  </tbody>\n",
       "</table>\n",
       "</div>"
      ],
      "text/plain": [
       "                                                                                text  \\\n",
       "0  [I worked at Google, I studied at Harvard, I a have a google cloud certification]   \n",
       "1       [I worked at Facebook, I studied at MIT,  I have a salesforce certification]   \n",
       "\n",
       "                                                                                                                                                           segs  \\\n",
       "0  {'Work Experience': ['I worked at Google'], 'Education': ['I studied at Harvard'], 'Certifications': ['I a have a google cloud certification'], 'Other': []}   \n",
       "1       {'Work Experience': ['I worked at Facebook'], 'Education': ['I studied at MIT'], 'Certifications': [' I have a salesforce certification'], 'Other': []}   \n",
       "\n",
       "                                          preds  \\\n",
       "0  [Work Experience, Education, Certifications]   \n",
       "1  [Work Experience, Education, Certifications]   \n",
       "\n",
       "                                probs  \n",
       "0    [0.98256487, 0.98468, 0.9786084]  \n",
       "1  [0.9836285, 0.98444146, 0.9522135]  "
      ]
     },
     "execution_count": null,
     "metadata": {},
     "output_type": "execute_result"
    }
   ],
   "source": [
    "# | eval: false\n",
    "\n",
    "df = pd.DataFrame(\n",
    "    {\n",
    "        \"text\": [\n",
    "            [\n",
    "                \"I worked at Google\",\n",
    "                \"I studied at Harvard\",\n",
    "                \"I a have a google cloud certification\",\n",
    "            ],\n",
    "            [\n",
    "                \"I worked at Facebook\",\n",
    "                \"I studied at MIT\",\n",
    "                \"I have a salesforce certification\",\n",
    "            ],\n",
    "        ]\n",
    "    }\n",
    ")\n",
    "\n",
    "m = SegsMapper()\n",
    "df = m(df)\n",
    "df"
   ]
  },
  {
   "cell_type": "code",
   "execution_count": null,
   "metadata": {},
   "outputs": [
    {
     "name": "stdout",
     "output_type": "stream",
     "text": [
      "Work Experience: 1\n",
      "\t'I worked at Google'\n",
      "\n",
      "--------------------------------------------------------------------------------------------------------\n",
      "Education: 1\n",
      "\t'I studied at Harvard'\n",
      "\n",
      "--------------------------------------------------------------------------------------------------------\n",
      "Certifications: 1\n",
      "\t'I a have a google cloud certification'\n",
      "\n",
      "--------------------------------------------------------------------------------------------------------\n",
      "Other: 0\n",
      "--------------------------------------------------------------------------------------------------------\n"
     ]
    }
   ],
   "source": [
    "# | eval: false\n",
    "\n",
    "print_segments(df[\"segs\"][0])"
   ]
  },
  {
   "cell_type": "code",
   "execution_count": null,
   "metadata": {},
   "outputs": [],
   "source": [
    "# | hide\n",
    "\n",
    "import nbdev\n",
    "\n",
    "nbdev.nbdev_export()\n"
   ]
  }
 ],
 "metadata": {
  "kernelspec": {
   "display_name": "python3",
   "language": "python",
   "name": "python3"
  }
 },
 "nbformat": 4,
 "nbformat_minor": 2
}
